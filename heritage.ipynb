{
 "cells": [
  {
   "cell_type": "markdown",
   "source": [
    "<h1 style=\"text-align:center\">Héritage CAE</h1> \n",
    "\n",
    "Ce Notebook est un travail préparatif au développement d'un Simulateur de réforme de l'héritage basé sur les [travaux du CAE-ECO](https://www.cae-eco.fr/repenser-lheritage) "
   ],
   "metadata": {
    "collapsed": false
   }
  },
  {
   "cell_type": "code",
   "execution_count": 1,
   "metadata": {
    "ExecuteTime": {
     "end_time": "2023-08-20T16:04:31.826567599Z",
     "start_time": "2023-08-20T16:04:31.103074889Z"
    }
   },
   "outputs": [],
   "source": [
    "from IPython.display import display\n",
    "%matplotlib widget\n",
    "import numpy as np\n",
    "import pandas as pd\n",
    "import plotly.graph_objects as go"
   ]
  },
  {
   "cell_type": "markdown",
   "metadata": {},
   "source": [
    "# Import des données\n",
    "\n",
    "## Héritage net par quantile\n",
    "\n",
    "Sources : extraction \"visuelle\" des graphiques [33 & 34 du Focus](doc/cae-focus077-2021.pdf)"
   ]
  },
  {
   "cell_type": "code",
   "execution_count": 2,
   "metadata": {
    "ExecuteTime": {
     "end_time": "2023-08-20T16:04:44.798173277Z",
     "start_time": "2023-08-20T16:04:44.755657728Z"
    }
   },
   "outputs": [
    {
     "data": {
      "text/plain": "       heritage\nquant          \n10.0          0\n20.0      15000\n30.0      47000\n40.0      65000\n50.0      65000\n60.0      65000\n70.0      84000\n80.0     164000\n90.0     288000\n95.0     510638\n99.0    1100000\n99.5    2500000\n99.9    4042553\n100.0  13000000",
      "text/html": "<div>\n<style scoped>\n    .dataframe tbody tr th:only-of-type {\n        vertical-align: middle;\n    }\n\n    .dataframe tbody tr th {\n        vertical-align: top;\n    }\n\n    .dataframe thead th {\n        text-align: right;\n    }\n</style>\n<table border=\"1\" class=\"dataframe\">\n  <thead>\n    <tr style=\"text-align: right;\">\n      <th></th>\n      <th>heritage</th>\n    </tr>\n    <tr>\n      <th>quant</th>\n      <th></th>\n    </tr>\n  </thead>\n  <tbody>\n    <tr>\n      <th>10.0</th>\n      <td>0</td>\n    </tr>\n    <tr>\n      <th>20.0</th>\n      <td>15000</td>\n    </tr>\n    <tr>\n      <th>30.0</th>\n      <td>47000</td>\n    </tr>\n    <tr>\n      <th>40.0</th>\n      <td>65000</td>\n    </tr>\n    <tr>\n      <th>50.0</th>\n      <td>65000</td>\n    </tr>\n    <tr>\n      <th>60.0</th>\n      <td>65000</td>\n    </tr>\n    <tr>\n      <th>70.0</th>\n      <td>84000</td>\n    </tr>\n    <tr>\n      <th>80.0</th>\n      <td>164000</td>\n    </tr>\n    <tr>\n      <th>90.0</th>\n      <td>288000</td>\n    </tr>\n    <tr>\n      <th>95.0</th>\n      <td>510638</td>\n    </tr>\n    <tr>\n      <th>99.0</th>\n      <td>1100000</td>\n    </tr>\n    <tr>\n      <th>99.5</th>\n      <td>2500000</td>\n    </tr>\n    <tr>\n      <th>99.9</th>\n      <td>4042553</td>\n    </tr>\n    <tr>\n      <th>100.0</th>\n      <td>13000000</td>\n    </tr>\n  </tbody>\n</table>\n</div>"
     },
     "execution_count": 2,
     "metadata": {},
     "output_type": "execute_result"
    }
   ],
   "source": [
    "# Read inheritance data\n",
    "df_herit = pd.read_csv(\"data/heritage.csv\", comment=\"#\")\n",
    "df_herit = df_herit.rename(columns={key: key.split(\"[\")[0] for key in df_herit.columns})\n",
    "df_herit.quant = df_herit.quant\n",
    "df_herit = df_herit.set_index(\"quant\")\n",
    "df_herit"
   ]
  },
  {
   "cell_type": "markdown",
   "source": [
    "## Taux effectif d'imposition pour chaque scenario\n",
    "\n",
    "Source: extraction visuelle du graphique 28 du [Focus](doc/cae-focus077-2021.pdf), page 31. "
   ],
   "metadata": {
    "collapsed": false
   }
  },
  {
   "cell_type": "code",
   "execution_count": 3,
   "outputs": [
    {
     "name": "stdout",
     "output_type": "stream",
     "text": [
      "Scenarios ['actuel', 'assiette1-bareme1', 'assiette2-bareme2', 'assiette1-bareme3', 'assiette2-bareme4']\n"
     ]
    },
    {
     "data": {
      "text/plain": "       heritage  actuel  assiette1-bareme1  assiette2-bareme2  \\\nquant                                                           \n10.0          0     0.0                0.0                0.0   \n20.0      15000     0.0                0.0                0.0   \n30.0      47000     0.0                0.0                0.0   \n40.0      65000     0.0                0.0                0.0   \n50.0      65000     0.0                0.0                0.0   \n60.0      65000     0.0                0.0                0.0   \n70.0      84000     0.0                1.0                1.0   \n80.0     164000     1.0                1.0                2.0   \n90.0     288000     2.0                2.0                5.0   \n95.0     510638     4.0                8.0                9.0   \n99.0    1100000     6.0               11.0               16.0   \n99.5    2500000     7.0               12.0               19.0   \n99.9    4042553     8.0               15.0               22.0   \n100.0  13000000    10.0               21.0               30.0   \n\n       assiette1-bareme3  assiette2-bareme4  \nquant                                        \n10.0                 0.0                0.0  \n20.0                 0.0                0.0  \n30.0                 0.0                0.0  \n40.0                 0.0                0.0  \n50.0                 0.0                0.0  \n60.0                 0.0                0.0  \n70.0                 0.0                0.0  \n80.0                 0.0                0.0  \n90.0                 1.0                1.0  \n95.0                 2.0                3.0  \n99.0                 4.0                7.0  \n99.5                 8.0               20.0  \n99.9                11.0               26.0  \n100.0               19.0               42.0  ",
      "text/html": "<div>\n<style scoped>\n    .dataframe tbody tr th:only-of-type {\n        vertical-align: middle;\n    }\n\n    .dataframe tbody tr th {\n        vertical-align: top;\n    }\n\n    .dataframe thead th {\n        text-align: right;\n    }\n</style>\n<table border=\"1\" class=\"dataframe\">\n  <thead>\n    <tr style=\"text-align: right;\">\n      <th></th>\n      <th>heritage</th>\n      <th>actuel</th>\n      <th>assiette1-bareme1</th>\n      <th>assiette2-bareme2</th>\n      <th>assiette1-bareme3</th>\n      <th>assiette2-bareme4</th>\n    </tr>\n    <tr>\n      <th>quant</th>\n      <th></th>\n      <th></th>\n      <th></th>\n      <th></th>\n      <th></th>\n      <th></th>\n    </tr>\n  </thead>\n  <tbody>\n    <tr>\n      <th>10.0</th>\n      <td>0</td>\n      <td>0.0</td>\n      <td>0.0</td>\n      <td>0.0</td>\n      <td>0.0</td>\n      <td>0.0</td>\n    </tr>\n    <tr>\n      <th>20.0</th>\n      <td>15000</td>\n      <td>0.0</td>\n      <td>0.0</td>\n      <td>0.0</td>\n      <td>0.0</td>\n      <td>0.0</td>\n    </tr>\n    <tr>\n      <th>30.0</th>\n      <td>47000</td>\n      <td>0.0</td>\n      <td>0.0</td>\n      <td>0.0</td>\n      <td>0.0</td>\n      <td>0.0</td>\n    </tr>\n    <tr>\n      <th>40.0</th>\n      <td>65000</td>\n      <td>0.0</td>\n      <td>0.0</td>\n      <td>0.0</td>\n      <td>0.0</td>\n      <td>0.0</td>\n    </tr>\n    <tr>\n      <th>50.0</th>\n      <td>65000</td>\n      <td>0.0</td>\n      <td>0.0</td>\n      <td>0.0</td>\n      <td>0.0</td>\n      <td>0.0</td>\n    </tr>\n    <tr>\n      <th>60.0</th>\n      <td>65000</td>\n      <td>0.0</td>\n      <td>0.0</td>\n      <td>0.0</td>\n      <td>0.0</td>\n      <td>0.0</td>\n    </tr>\n    <tr>\n      <th>70.0</th>\n      <td>84000</td>\n      <td>0.0</td>\n      <td>1.0</td>\n      <td>1.0</td>\n      <td>0.0</td>\n      <td>0.0</td>\n    </tr>\n    <tr>\n      <th>80.0</th>\n      <td>164000</td>\n      <td>1.0</td>\n      <td>1.0</td>\n      <td>2.0</td>\n      <td>0.0</td>\n      <td>0.0</td>\n    </tr>\n    <tr>\n      <th>90.0</th>\n      <td>288000</td>\n      <td>2.0</td>\n      <td>2.0</td>\n      <td>5.0</td>\n      <td>1.0</td>\n      <td>1.0</td>\n    </tr>\n    <tr>\n      <th>95.0</th>\n      <td>510638</td>\n      <td>4.0</td>\n      <td>8.0</td>\n      <td>9.0</td>\n      <td>2.0</td>\n      <td>3.0</td>\n    </tr>\n    <tr>\n      <th>99.0</th>\n      <td>1100000</td>\n      <td>6.0</td>\n      <td>11.0</td>\n      <td>16.0</td>\n      <td>4.0</td>\n      <td>7.0</td>\n    </tr>\n    <tr>\n      <th>99.5</th>\n      <td>2500000</td>\n      <td>7.0</td>\n      <td>12.0</td>\n      <td>19.0</td>\n      <td>8.0</td>\n      <td>20.0</td>\n    </tr>\n    <tr>\n      <th>99.9</th>\n      <td>4042553</td>\n      <td>8.0</td>\n      <td>15.0</td>\n      <td>22.0</td>\n      <td>11.0</td>\n      <td>26.0</td>\n    </tr>\n    <tr>\n      <th>100.0</th>\n      <td>13000000</td>\n      <td>10.0</td>\n      <td>21.0</td>\n      <td>30.0</td>\n      <td>19.0</td>\n      <td>42.0</td>\n    </tr>\n  </tbody>\n</table>\n</div>"
     },
     "execution_count": 3,
     "metadata": {},
     "output_type": "execute_result"
    }
   ],
   "source": [
    "# Read taux effectif\n",
    "df_taux = pd.read_csv(\"data/taux_effectifs.csv\", comment=\"#\")\n",
    "df_taux = df_taux.rename(columns={key: key.split(\"[\")[0] for key in df_taux.columns})\n",
    "df_taux.quant = df_taux.quant\n",
    "df_taux = df_taux.set_index(\"quant\")\n",
    "df_taux\n",
    "\n",
    "SCENARIOS = list(df_taux.columns)\n",
    "\n",
    "print(\"Scenarios\", SCENARIOS)\n",
    "\n",
    "# Jointure des deux ensembles de données\n",
    "df = df_herit.join(df_taux)\n",
    "df"
   ],
   "metadata": {
    "collapsed": false,
    "ExecuteTime": {
     "end_time": "2023-08-20T16:04:47.961046479Z",
     "start_time": "2023-08-20T16:04:47.925035638Z"
    }
   }
  },
  {
   "cell_type": "markdown",
   "source": [
    "# Calculs \n",
    "\n",
    "## Volumes\n",
    "\n",
    "On calcule les volumes moyen d'héritage pour chaque quantile."
   ],
   "metadata": {
    "collapsed": false
   }
  },
  {
   "cell_type": "code",
   "execution_count": 5,
   "metadata": {
    "ExecuteTime": {
     "end_time": "2023-08-20T16:05:24.085550873Z",
     "start_time": "2023-08-20T16:05:24.040287441Z"
    }
   },
   "outputs": [
    {
     "data": {
      "text/plain": "       heritage  actuel  assiette1-bareme1  assiette2-bareme2  \\\nquant                                                           \n10.0          0     0.0                0.0                0.0   \n20.0      15000     0.0                0.0                0.0   \n30.0      47000     0.0                0.0                0.0   \n40.0      65000     0.0                0.0                0.0   \n50.0      65000     0.0                0.0                0.0   \n60.0      65000     0.0                0.0                0.0   \n70.0      84000     0.0                1.0                1.0   \n80.0     164000     1.0                1.0                2.0   \n90.0     288000     2.0                2.0                5.0   \n95.0     510638     4.0                8.0                9.0   \n99.0    1100000     6.0               11.0               16.0   \n99.5    2500000     7.0               12.0               19.0   \n99.9    4042553     8.0               15.0               22.0   \n100.0  13000000    10.0               21.0               30.0   \n\n       assiette1-bareme3  assiette2-bareme4    volumes  \nquant                                                   \n10.0                 0.0                0.0      0.000  \n20.0                 0.0                0.0   1500.000  \n30.0                 0.0                0.0   4700.000  \n40.0                 0.0                0.0   6500.000  \n50.0                 0.0                0.0   6500.000  \n60.0                 0.0                0.0   6500.000  \n70.0                 0.0                0.0   8400.000  \n80.0                 0.0                0.0  16400.000  \n90.0                 1.0                1.0  28800.000  \n95.0                 2.0                3.0  25531.900  \n99.0                 4.0                7.0  44000.000  \n99.5                 8.0               20.0  12500.000  \n99.9                11.0               26.0  16170.212  \n100.0               19.0               42.0  13000.000  ",
      "text/html": "<div>\n<style scoped>\n    .dataframe tbody tr th:only-of-type {\n        vertical-align: middle;\n    }\n\n    .dataframe tbody tr th {\n        vertical-align: top;\n    }\n\n    .dataframe thead th {\n        text-align: right;\n    }\n</style>\n<table border=\"1\" class=\"dataframe\">\n  <thead>\n    <tr style=\"text-align: right;\">\n      <th></th>\n      <th>heritage</th>\n      <th>actuel</th>\n      <th>assiette1-bareme1</th>\n      <th>assiette2-bareme2</th>\n      <th>assiette1-bareme3</th>\n      <th>assiette2-bareme4</th>\n      <th>volumes</th>\n    </tr>\n    <tr>\n      <th>quant</th>\n      <th></th>\n      <th></th>\n      <th></th>\n      <th></th>\n      <th></th>\n      <th></th>\n      <th></th>\n    </tr>\n  </thead>\n  <tbody>\n    <tr>\n      <th>10.0</th>\n      <td>0</td>\n      <td>0.0</td>\n      <td>0.0</td>\n      <td>0.0</td>\n      <td>0.0</td>\n      <td>0.0</td>\n      <td>0.000</td>\n    </tr>\n    <tr>\n      <th>20.0</th>\n      <td>15000</td>\n      <td>0.0</td>\n      <td>0.0</td>\n      <td>0.0</td>\n      <td>0.0</td>\n      <td>0.0</td>\n      <td>1500.000</td>\n    </tr>\n    <tr>\n      <th>30.0</th>\n      <td>47000</td>\n      <td>0.0</td>\n      <td>0.0</td>\n      <td>0.0</td>\n      <td>0.0</td>\n      <td>0.0</td>\n      <td>4700.000</td>\n    </tr>\n    <tr>\n      <th>40.0</th>\n      <td>65000</td>\n      <td>0.0</td>\n      <td>0.0</td>\n      <td>0.0</td>\n      <td>0.0</td>\n      <td>0.0</td>\n      <td>6500.000</td>\n    </tr>\n    <tr>\n      <th>50.0</th>\n      <td>65000</td>\n      <td>0.0</td>\n      <td>0.0</td>\n      <td>0.0</td>\n      <td>0.0</td>\n      <td>0.0</td>\n      <td>6500.000</td>\n    </tr>\n    <tr>\n      <th>60.0</th>\n      <td>65000</td>\n      <td>0.0</td>\n      <td>0.0</td>\n      <td>0.0</td>\n      <td>0.0</td>\n      <td>0.0</td>\n      <td>6500.000</td>\n    </tr>\n    <tr>\n      <th>70.0</th>\n      <td>84000</td>\n      <td>0.0</td>\n      <td>1.0</td>\n      <td>1.0</td>\n      <td>0.0</td>\n      <td>0.0</td>\n      <td>8400.000</td>\n    </tr>\n    <tr>\n      <th>80.0</th>\n      <td>164000</td>\n      <td>1.0</td>\n      <td>1.0</td>\n      <td>2.0</td>\n      <td>0.0</td>\n      <td>0.0</td>\n      <td>16400.000</td>\n    </tr>\n    <tr>\n      <th>90.0</th>\n      <td>288000</td>\n      <td>2.0</td>\n      <td>2.0</td>\n      <td>5.0</td>\n      <td>1.0</td>\n      <td>1.0</td>\n      <td>28800.000</td>\n    </tr>\n    <tr>\n      <th>95.0</th>\n      <td>510638</td>\n      <td>4.0</td>\n      <td>8.0</td>\n      <td>9.0</td>\n      <td>2.0</td>\n      <td>3.0</td>\n      <td>25531.900</td>\n    </tr>\n    <tr>\n      <th>99.0</th>\n      <td>1100000</td>\n      <td>6.0</td>\n      <td>11.0</td>\n      <td>16.0</td>\n      <td>4.0</td>\n      <td>7.0</td>\n      <td>44000.000</td>\n    </tr>\n    <tr>\n      <th>99.5</th>\n      <td>2500000</td>\n      <td>7.0</td>\n      <td>12.0</td>\n      <td>19.0</td>\n      <td>8.0</td>\n      <td>20.0</td>\n      <td>12500.000</td>\n    </tr>\n    <tr>\n      <th>99.9</th>\n      <td>4042553</td>\n      <td>8.0</td>\n      <td>15.0</td>\n      <td>22.0</td>\n      <td>11.0</td>\n      <td>26.0</td>\n      <td>16170.212</td>\n    </tr>\n    <tr>\n      <th>100.0</th>\n      <td>13000000</td>\n      <td>10.0</td>\n      <td>21.0</td>\n      <td>30.0</td>\n      <td>19.0</td>\n      <td>42.0</td>\n      <td>13000.000</td>\n    </tr>\n  </tbody>\n</table>\n</div>"
     },
     "metadata": {},
     "output_type": "display_data"
    },
    {
     "name": "stdout",
     "output_type": "stream",
     "text": [
      "Héritage net moyen 190502.1119999995\n",
      "Base calculée (sur hypothèse flux de succession 300 Mds€): 1574785.6905649465\n"
     ]
    }
   ],
   "source": [
    "# Compute volumes for each quantile\n",
    "quantiles = np.insert(df.index.values, 0, [0])\n",
    "df[\"volumes\"]  = df.heritage.values * (quantiles[1:] - quantiles[0:-1]) / 100\n",
    "\n",
    "display(df)\n",
    "\n",
    "average = df.volumes.sum()\n",
    "print(\"Héritage net moyen\", df.volumes.sum())\n",
    "\n",
    "base = 300*10**9 / average\n",
    "\n",
    "print(\"Base calculée (sur hypothèse flux de succession 300 Mds€):\", base)"
   ]
  },
  {
   "cell_type": "markdown",
   "source": [
    "### Quelle est la base de la distribution ?\n",
    "\n",
    "<div style=\"background:yellow\">\n",
    "⚠ Question : Quelle est la \"base\" de ces quantiles ?\n",
    "\n",
    "On trouve un héritage net moyen de **190k€.**\n",
    "Rapporté à un flux de 300 Md € [page 5 de la Note](./doc/cae-note069s.pdf), ça ferait une base de <b>1.5 millions de ??<> héritages / de décès / d'héritiers ? Ca semble loin des 720k naissances / 667k décès annuels.\n",
    "</div>"
   ],
   "metadata": {
    "collapsed": false
   }
  },
  {
   "cell_type": "markdown",
   "source": [
    "## Recettes fiscales\n",
    "\n",
    "Calcul des héritages bruts, avant imposition actuelle.\n",
    "Puis calcul des recettes fiscales pour chaque scenario."
   ],
   "metadata": {
    "collapsed": false
   }
  },
  {
   "cell_type": "code",
   "execution_count": 6,
   "outputs": [
    {
     "data": {
      "text/plain": "                   recettes_moyennes  recettes_diff\nscenario                                           \nactuel                   8417.161523       0.000000\nassiette1-bareme1       15396.690339    6979.528816\nassiette2-bareme2       22521.564814   14104.403290\nassiette1-bareme3        8451.240735      34.079211\nassiette2-bareme4       17693.026402    9275.864879",
      "text/html": "<div>\n<style scoped>\n    .dataframe tbody tr th:only-of-type {\n        vertical-align: middle;\n    }\n\n    .dataframe tbody tr th {\n        vertical-align: top;\n    }\n\n    .dataframe thead th {\n        text-align: right;\n    }\n</style>\n<table border=\"1\" class=\"dataframe\">\n  <thead>\n    <tr style=\"text-align: right;\">\n      <th></th>\n      <th>recettes_moyennes</th>\n      <th>recettes_diff</th>\n    </tr>\n    <tr>\n      <th>scenario</th>\n      <th></th>\n      <th></th>\n    </tr>\n  </thead>\n  <tbody>\n    <tr>\n      <th>actuel</th>\n      <td>8417.161523</td>\n      <td>0.000000</td>\n    </tr>\n    <tr>\n      <th>assiette1-bareme1</th>\n      <td>15396.690339</td>\n      <td>6979.528816</td>\n    </tr>\n    <tr>\n      <th>assiette2-bareme2</th>\n      <td>22521.564814</td>\n      <td>14104.403290</td>\n    </tr>\n    <tr>\n      <th>assiette1-bareme3</th>\n      <td>8451.240735</td>\n      <td>34.079211</td>\n    </tr>\n    <tr>\n      <th>assiette2-bareme4</th>\n      <td>17693.026402</td>\n      <td>9275.864879</td>\n    </tr>\n  </tbody>\n</table>\n</div>"
     },
     "execution_count": 6,
     "metadata": {},
     "output_type": "execute_result"
    }
   ],
   "source": [
    "df[\"volumes_brut\"] = df.volumes * 100 / (100 - df.actuel)\n",
    "df[\"heritage_brut\"] = df.heritage * 100 / (100 - df.actuel)\n",
    "\n",
    "recettes = dict()\n",
    "for scenar in SCENARIOS :\n",
    "    total = (df.volumes_brut *  df[scenar] / 100).sum()\n",
    "    recettes[scenar] = total\n",
    "    \n",
    "recettes = pd.DataFrame(\n",
    "    recettes.items(), columns=[\"scenario\", \"recettes_moyennes\"]).set_index(\"scenario\")\n",
    "\n",
    "# Différence de recette par rapport au scenario actuel\n",
    "recettes[\"recettes_diff\"] = recettes.recettes_moyennes - recettes.recettes_moyennes[0]\n",
    "recettes"
   ],
   "metadata": {
    "collapsed": false,
    "ExecuteTime": {
     "end_time": "2023-08-20T16:05:49.407070839Z",
     "start_time": "2023-08-20T16:05:49.357261364Z"
    }
   }
  },
  {
   "cell_type": "markdown",
   "source": [
    "### Quelle base ?\n",
    "\n",
    "A nouveau se pose la question de la base.\n",
    "Si on reprend la base précedente empirique 1.5 millions, on obtient :"
   ],
   "metadata": {
    "collapsed": false
   }
  },
  {
   "cell_type": "code",
   "execution_count": 7,
   "outputs": [
    {
     "data": {
      "text/plain": "                   recettes_moyennes  recettes_diff\nscenario                                           \nactuel                  1.325523e+10   0.000000e+00\nassiette1-bareme1       2.424649e+10   1.099126e+10\nassiette2-bareme2       3.546664e+10   2.221141e+10\nassiette1-bareme3       1.330889e+10   5.366745e+07\nassiette2-bareme4       2.786272e+10   1.460750e+10",
      "text/html": "<div>\n<style scoped>\n    .dataframe tbody tr th:only-of-type {\n        vertical-align: middle;\n    }\n\n    .dataframe tbody tr th {\n        vertical-align: top;\n    }\n\n    .dataframe thead th {\n        text-align: right;\n    }\n</style>\n<table border=\"1\" class=\"dataframe\">\n  <thead>\n    <tr style=\"text-align: right;\">\n      <th></th>\n      <th>recettes_moyennes</th>\n      <th>recettes_diff</th>\n    </tr>\n    <tr>\n      <th>scenario</th>\n      <th></th>\n      <th></th>\n    </tr>\n  </thead>\n  <tbody>\n    <tr>\n      <th>actuel</th>\n      <td>1.325523e+10</td>\n      <td>0.000000e+00</td>\n    </tr>\n    <tr>\n      <th>assiette1-bareme1</th>\n      <td>2.424649e+10</td>\n      <td>1.099126e+10</td>\n    </tr>\n    <tr>\n      <th>assiette2-bareme2</th>\n      <td>3.546664e+10</td>\n      <td>2.221141e+10</td>\n    </tr>\n    <tr>\n      <th>assiette1-bareme3</th>\n      <td>1.330889e+10</td>\n      <td>5.366745e+07</td>\n    </tr>\n    <tr>\n      <th>assiette2-bareme4</th>\n      <td>2.786272e+10</td>\n      <td>1.460750e+10</td>\n    </tr>\n  </tbody>\n</table>\n</div>"
     },
     "execution_count": 7,
     "metadata": {},
     "output_type": "execute_result"
    }
   ],
   "source": [
    "# Recettes moyennes avec une  base 1.5 millions \n",
    "pd.merge(\n",
    "    recettes.recettes_moyennes * base,\n",
    "    recettes.recettes_diff * base, left_index=True, right_index=True)"
   ],
   "metadata": {
    "collapsed": false,
    "ExecuteTime": {
     "end_time": "2023-08-20T16:07:40.108898456Z",
     "start_time": "2023-08-20T16:07:40.063791983Z"
    }
   }
  },
  {
   "cell_type": "markdown",
   "source": [
    "On retombe sur des recettes fiscales actuelles de **13 Mds €** :du même ordre de grandeur que **15 Mds €** (2022)\n",
    "Par contre les recette supplémentaires sont un peu au delà de celles notées dans le [graphique 28 du focus](./doc/cae-focus077-2021.pdf) (page 31). Respectivement de 9, 19, 0 et 12 Mds€."
   ],
   "metadata": {
    "collapsed": false
   }
  },
  {
   "cell_type": "markdown",
   "source": [
    "# Calcul héritage de base\n",
    "\n",
    "On fait ici un calcul simple de l'héritage de base financable par un surplus donné.\n",
    "On cherche combien de quantiles on peut compléter à un héritage X, avec un surplus S\n",
    "Tant que le l'héritage min calculé dépasse l\"héritage de la tranche suivante, on élargit la redistribution au suivant."
   ],
   "metadata": {
    "collapsed": false
   }
  },
  {
   "cell_type": "code",
   "execution_count": 47,
   "metadata": {
    "ExecuteTime": {
     "end_time": "2023-08-20T13:39:52.854069660Z",
     "start_time": "2023-08-20T13:39:52.805815697Z"
    }
   },
   "outputs": [],
   "source": [
    "def heritage_de_base(surplus, base=1) :\n",
    "  \n",
    "    quant = np.insert(df.index.values, 0, [0])\n",
    "  \n",
    "    # Taille chaque segment \n",
    "    # XXX hardcodé à 0.1 (premier quantiles considéres uniquement)\n",
    "    width=0.1\n",
    "    \n",
    "    heritages = df.heritage.values\n",
    "    \n",
    "    # Boucle sur les quantiles : tant que l'héritage min déborde sur le suivant \n",
    "    for i in range(len(heritages)) :\n",
    "        \n",
    "        if (quant[i+1] - quant[i])/100 != width :\n",
    "            raise Exception(\"Pas d'héritage minimum trouvé pour les premiers quantiles\")\n",
    "        \n",
    "        heritage_min = (surplus / (width*base) + np.sum(heritages[0:i]))/(i+1)\n",
    "        \n",
    "        print(\"Quantile %d%%-%d%%. Héritage min :%d\" % (quant[i+1], quant[i], heritage_min))\n",
    "        \n",
    "        if heritage_min < heritages[i+i]:\n",
    "            break\n",
    "        else:\n",
    "            print(\"> %d => continue\" % heritages[i+1])\n",
    "            \n",
    "    return heritage_min"
   ]
  },
  {
   "cell_type": "code",
   "execution_count": 29,
   "outputs": [
    {
     "name": "stdout",
     "output_type": "stream",
     "text": [
      "Quantile 10%-0%. Héritage min :82550\n",
      "> 15000 => continue\n",
      "Quantile 20%-10%. Héritage min :41275\n"
     ]
    },
    {
     "data": {
      "text/plain": "41275.45759999989"
     },
     "execution_count": 29,
     "metadata": {},
     "output_type": "execute_result"
    }
   ],
   "source": [
    "heritage_de_base(13*10**9)"
   ],
   "metadata": {
    "collapsed": false,
    "ExecuteTime": {
     "end_time": "2023-08-20T11:23:45.004533463Z",
     "start_time": "2023-08-20T11:23:44.996395171Z"
    }
   }
  },
  {
   "cell_type": "code",
   "execution_count": 35,
   "outputs": [
    {
     "data": {
      "text/plain": "       heritage  actuel  assiette1-bareme1  assiette2-bareme2  \\\nquant                                                           \n10.0          0     0.0                0.0                0.0   \n20.0      15000     0.0                0.0                0.0   \n30.0      47000     0.0                0.0                0.0   \n40.0      65000     0.0                0.0                0.0   \n50.0      65000     0.0                0.0                0.0   \n60.0      65000     0.0                0.0                0.0   \n70.0      84000     0.0                1.0                1.0   \n80.0     164000     1.0                1.0                2.0   \n90.0     288000     2.0                2.0                5.0   \n95.0     510638     4.0                8.0                9.0   \n99.0    1100000     6.0               11.0               16.0   \n99.5    2500000     7.0               12.0               19.0   \n99.9    4042553     8.0               15.0               22.0   \n100.0  13000000    10.0               21.0               30.0   \n\n       assiette1-bareme3  assiette2-bareme4    volumes  heritage_brut  \\\nquant                                                                   \n10.0                 0.0                0.0      0.000   0.000000e+00   \n20.0                 0.0                0.0   1500.000   1.500000e+04   \n30.0                 0.0                0.0   4700.000   4.700000e+04   \n40.0                 0.0                0.0   6500.000   6.500000e+04   \n50.0                 0.0                0.0   6500.000   6.500000e+04   \n60.0                 0.0                0.0   6500.000   6.500000e+04   \n70.0                 0.0                0.0   8400.000   8.400000e+04   \n80.0                 0.0                0.0  16400.000   1.656566e+05   \n90.0                 1.0                1.0  28800.000   2.938776e+05   \n95.0                 2.0                3.0  25531.900   5.319146e+05   \n99.0                 4.0                7.0  44000.000   1.170213e+06   \n99.5                 8.0               20.0  12500.000   2.688172e+06   \n99.9                11.0               26.0  16170.212   4.394079e+06   \n100.0               19.0               42.0  13000.000   1.444444e+07   \n\n       volumes_brut  \nquant                \n10.0       0.000000  \n20.0    1500.000000  \n30.0    4700.000000  \n40.0    6500.000000  \n50.0    6500.000000  \n60.0    6500.000000  \n70.0    8400.000000  \n80.0   16565.656566  \n90.0   29387.755102  \n95.0   26595.729167  \n99.0   46808.510638  \n99.5   13440.860215  \n99.9   17576.317391  \n100.0  14444.444444  ",
      "text/html": "<div>\n<style scoped>\n    .dataframe tbody tr th:only-of-type {\n        vertical-align: middle;\n    }\n\n    .dataframe tbody tr th {\n        vertical-align: top;\n    }\n\n    .dataframe thead th {\n        text-align: right;\n    }\n</style>\n<table border=\"1\" class=\"dataframe\">\n  <thead>\n    <tr style=\"text-align: right;\">\n      <th></th>\n      <th>heritage</th>\n      <th>actuel</th>\n      <th>assiette1-bareme1</th>\n      <th>assiette2-bareme2</th>\n      <th>assiette1-bareme3</th>\n      <th>assiette2-bareme4</th>\n      <th>volumes</th>\n      <th>heritage_brut</th>\n      <th>volumes_brut</th>\n    </tr>\n    <tr>\n      <th>quant</th>\n      <th></th>\n      <th></th>\n      <th></th>\n      <th></th>\n      <th></th>\n      <th></th>\n      <th></th>\n      <th></th>\n      <th></th>\n    </tr>\n  </thead>\n  <tbody>\n    <tr>\n      <th>10.0</th>\n      <td>0</td>\n      <td>0.0</td>\n      <td>0.0</td>\n      <td>0.0</td>\n      <td>0.0</td>\n      <td>0.0</td>\n      <td>0.000</td>\n      <td>0.000000e+00</td>\n      <td>0.000000</td>\n    </tr>\n    <tr>\n      <th>20.0</th>\n      <td>15000</td>\n      <td>0.0</td>\n      <td>0.0</td>\n      <td>0.0</td>\n      <td>0.0</td>\n      <td>0.0</td>\n      <td>1500.000</td>\n      <td>1.500000e+04</td>\n      <td>1500.000000</td>\n    </tr>\n    <tr>\n      <th>30.0</th>\n      <td>47000</td>\n      <td>0.0</td>\n      <td>0.0</td>\n      <td>0.0</td>\n      <td>0.0</td>\n      <td>0.0</td>\n      <td>4700.000</td>\n      <td>4.700000e+04</td>\n      <td>4700.000000</td>\n    </tr>\n    <tr>\n      <th>40.0</th>\n      <td>65000</td>\n      <td>0.0</td>\n      <td>0.0</td>\n      <td>0.0</td>\n      <td>0.0</td>\n      <td>0.0</td>\n      <td>6500.000</td>\n      <td>6.500000e+04</td>\n      <td>6500.000000</td>\n    </tr>\n    <tr>\n      <th>50.0</th>\n      <td>65000</td>\n      <td>0.0</td>\n      <td>0.0</td>\n      <td>0.0</td>\n      <td>0.0</td>\n      <td>0.0</td>\n      <td>6500.000</td>\n      <td>6.500000e+04</td>\n      <td>6500.000000</td>\n    </tr>\n    <tr>\n      <th>60.0</th>\n      <td>65000</td>\n      <td>0.0</td>\n      <td>0.0</td>\n      <td>0.0</td>\n      <td>0.0</td>\n      <td>0.0</td>\n      <td>6500.000</td>\n      <td>6.500000e+04</td>\n      <td>6500.000000</td>\n    </tr>\n    <tr>\n      <th>70.0</th>\n      <td>84000</td>\n      <td>0.0</td>\n      <td>1.0</td>\n      <td>1.0</td>\n      <td>0.0</td>\n      <td>0.0</td>\n      <td>8400.000</td>\n      <td>8.400000e+04</td>\n      <td>8400.000000</td>\n    </tr>\n    <tr>\n      <th>80.0</th>\n      <td>164000</td>\n      <td>1.0</td>\n      <td>1.0</td>\n      <td>2.0</td>\n      <td>0.0</td>\n      <td>0.0</td>\n      <td>16400.000</td>\n      <td>1.656566e+05</td>\n      <td>16565.656566</td>\n    </tr>\n    <tr>\n      <th>90.0</th>\n      <td>288000</td>\n      <td>2.0</td>\n      <td>2.0</td>\n      <td>5.0</td>\n      <td>1.0</td>\n      <td>1.0</td>\n      <td>28800.000</td>\n      <td>2.938776e+05</td>\n      <td>29387.755102</td>\n    </tr>\n    <tr>\n      <th>95.0</th>\n      <td>510638</td>\n      <td>4.0</td>\n      <td>8.0</td>\n      <td>9.0</td>\n      <td>2.0</td>\n      <td>3.0</td>\n      <td>25531.900</td>\n      <td>5.319146e+05</td>\n      <td>26595.729167</td>\n    </tr>\n    <tr>\n      <th>99.0</th>\n      <td>1100000</td>\n      <td>6.0</td>\n      <td>11.0</td>\n      <td>16.0</td>\n      <td>4.0</td>\n      <td>7.0</td>\n      <td>44000.000</td>\n      <td>1.170213e+06</td>\n      <td>46808.510638</td>\n    </tr>\n    <tr>\n      <th>99.5</th>\n      <td>2500000</td>\n      <td>7.0</td>\n      <td>12.0</td>\n      <td>19.0</td>\n      <td>8.0</td>\n      <td>20.0</td>\n      <td>12500.000</td>\n      <td>2.688172e+06</td>\n      <td>13440.860215</td>\n    </tr>\n    <tr>\n      <th>99.9</th>\n      <td>4042553</td>\n      <td>8.0</td>\n      <td>15.0</td>\n      <td>22.0</td>\n      <td>11.0</td>\n      <td>26.0</td>\n      <td>16170.212</td>\n      <td>4.394079e+06</td>\n      <td>17576.317391</td>\n    </tr>\n    <tr>\n      <th>100.0</th>\n      <td>13000000</td>\n      <td>10.0</td>\n      <td>21.0</td>\n      <td>30.0</td>\n      <td>19.0</td>\n      <td>42.0</td>\n      <td>13000.000</td>\n      <td>1.444444e+07</td>\n      <td>14444.444444</td>\n    </tr>\n  </tbody>\n</table>\n</div>"
     },
     "execution_count": 35,
     "metadata": {},
     "output_type": "execute_result"
    }
   ],
   "source": [
    "df"
   ],
   "metadata": {
    "collapsed": false,
    "ExecuteTime": {
     "end_time": "2023-08-20T13:35:37.893581694Z",
     "start_time": "2023-08-20T13:35:37.811821438Z"
    }
   }
  },
  {
   "cell_type": "code",
   "execution_count": 105,
   "outputs": [],
   "source": [
    "def compare(df, scenario) :\n",
    "    \n",
    "    df = df.copy()\n",
    "    \n",
    "    # Calcul des volumes brut et héritages bruts\n",
    "    df[\"volumes_brut\"] = df.volumes * 100 / (100 - df.actuel)\n",
    "    df[\"heritage_brut\"] = df.heritage * 100 / (100 - df.actuel)\n",
    "\n",
    "    # Calcul du surplus\n",
    "    surplus = np.sum(df[\"volumes_brut\"] * (df[scenario] - df.actuel)/ 100)\n",
    "    \n",
    "    print(\"Surplus moyen\", surplus)\n",
    "    \n",
    "    heritage_min = heritage_de_base(surplus)\n",
    "    \n",
    "    df[\"nouveau_net\"] = df[\"heritage_brut\"] * (1-df[scenario]/100)\n",
    "    \n",
    "    df[\"nouveau_net\"] = np.maximum(df[\"nouveau_net\"], heritage_min)\n",
    "    \n",
    "    quantiles = np.insert(df.index.values, 0, [0])\n",
    "    quantiles_str = []\n",
    "    for i, quant in enumerate(quantiles) :\n",
    "        if i >= len(df) :\n",
    "            break\n",
    "        if quant < 99 :\n",
    "            quant2 = quantiles[i+1]\n",
    "            quantiles_str.append(\"%d-%d %%\" % (quant, quant2))\n",
    "        else:\n",
    "            quantiles_str.append(\">%0.1f %%\" % (100-quant)) \n",
    "    \n",
    "    fig = go.Figure()\n",
    "    \n",
    "    fig.add_trace(go.Scatter(x=quantiles_str,\n",
    "            y=[heritage_min]*len(quantiles),\n",
    "            name='Héritage de base',\n",
    "            line_color='red',\n",
    "            mode='lines',\n",
    "            line_dash = 'dash'\n",
    "            ))\n",
    "    \n",
    "    fig.add_trace(go.Bar(x=quantiles_str,\n",
    "                y=df.heritage,\n",
    "                name='Avant réforme',\n",
    "                marker_color='rgb(55, 83, 109)'\n",
    "                ))\n",
    "    fig.add_trace(go.Bar(x=quantiles_str,\n",
    "                y=df.nouveau_net,\n",
    "                name='Après réforme',\n",
    "                marker_color='rgb(26, 118, 255)'\n",
    "                ))\n",
    "    \n",
    "    fig.update_layout(\n",
    "        title='Héritage avant et après réforme de la fiscalité, pour chaque tranche',\n",
    "        xaxis_tickfont_size=14,\n",
    "        xaxis=dict(\n",
    "            title='Part de la population',\n",
    "            tickangle=-45),\n",
    "        yaxis=dict(\n",
    "            type=\"log\",\n",
    "            title='Héritage net € (log)',\n",
    "            titlefont_size=16,\n",
    "            tickfont_size=14,\n",
    "        ),\n",
    "        legend=dict(\n",
    "            x=0,\n",
    "            y=1.0,\n",
    "            bgcolor='rgba(255, 255, 255, 0)',\n",
    "            bordercolor='rgba(255, 255, 255, 0)'\n",
    "        ),\n",
    "        barmode='group',\n",
    "        #bargap=0.15, # gap between bars of adjacent location coordinates.\n",
    "        #bargroupgap=0.1 # gap between bars of the same location coordinate.\n",
    "    )\n",
    "    fig.show()"
   ],
   "metadata": {
    "collapsed": false,
    "ExecuteTime": {
     "end_time": "2023-08-20T14:20:22.338584469Z",
     "start_time": "2023-08-20T14:20:22.224006555Z"
    }
   }
  },
  {
   "cell_type": "code",
   "execution_count": 106,
   "outputs": [
    {
     "name": "stdout",
     "output_type": "stream",
     "text": [
      "Surplus moyen 14104.40329035873\n",
      "Quantile 10%-0%. Héritage min :141044\n",
      "> 15000 => continue\n",
      "Quantile 20%-10%. Héritage min :70522\n",
      "> 47000 => continue\n",
      "Quantile 30%-20%. Héritage min :52014\n"
     ]
    },
    {
     "data": {
      "application/vnd.plotly.v1+json": {
       "data": [
        {
         "line": {
          "color": "red",
          "dash": "dash"
         },
         "mode": "lines",
         "name": "Héritage de base",
         "x": [
          "0-10 %",
          "10-20 %",
          "20-30 %",
          "30-40 %",
          "40-50 %",
          "50-60 %",
          "60-70 %",
          "70-80 %",
          "80-90 %",
          "90-95 %",
          "95-99 %",
          ">1.0 %",
          ">0.5 %",
          ">0.1 %"
         ],
         "y": [
          52014.6776345291,
          52014.6776345291,
          52014.6776345291,
          52014.6776345291,
          52014.6776345291,
          52014.6776345291,
          52014.6776345291,
          52014.6776345291,
          52014.6776345291,
          52014.6776345291,
          52014.6776345291,
          52014.6776345291,
          52014.6776345291,
          52014.6776345291,
          52014.6776345291
         ],
         "type": "scatter"
        },
        {
         "marker": {
          "color": "rgb(55, 83, 109)"
         },
         "name": "Avant réforme",
         "x": [
          "0-10 %",
          "10-20 %",
          "20-30 %",
          "30-40 %",
          "40-50 %",
          "50-60 %",
          "60-70 %",
          "70-80 %",
          "80-90 %",
          "90-95 %",
          "95-99 %",
          ">1.0 %",
          ">0.5 %",
          ">0.1 %"
         ],
         "y": [
          0,
          15000,
          47000,
          65000,
          65000,
          65000,
          84000,
          164000,
          288000,
          510638,
          1100000,
          2500000,
          4042553,
          13000000
         ],
         "type": "bar"
        },
        {
         "marker": {
          "color": "rgb(26, 118, 255)"
         },
         "name": "Après réforme",
         "x": [
          "0-10 %",
          "10-20 %",
          "20-30 %",
          "30-40 %",
          "40-50 %",
          "50-60 %",
          "60-70 %",
          "70-80 %",
          "80-90 %",
          "90-95 %",
          "95-99 %",
          ">1.0 %",
          ">0.5 %",
          ">0.1 %"
         ],
         "y": [
          52014.6776345291,
          52014.6776345291,
          52014.6776345291,
          65000.0,
          65000.0,
          65000.0,
          83160.0,
          162343.43434343435,
          279183.67346938775,
          484042.2708333334,
          982978.7234042552,
          2177419.35483871,
          3427381.891304348,
          1.011111111111111E7
         ],
         "type": "bar"
        }
       ],
       "layout": {
        "template": {
         "data": {
          "histogram2dcontour": [
           {
            "type": "histogram2dcontour",
            "colorbar": {
             "outlinewidth": 0,
             "ticks": ""
            },
            "colorscale": [
             [
              0.0,
              "#0d0887"
             ],
             [
              0.1111111111111111,
              "#46039f"
             ],
             [
              0.2222222222222222,
              "#7201a8"
             ],
             [
              0.3333333333333333,
              "#9c179e"
             ],
             [
              0.4444444444444444,
              "#bd3786"
             ],
             [
              0.5555555555555556,
              "#d8576b"
             ],
             [
              0.6666666666666666,
              "#ed7953"
             ],
             [
              0.7777777777777778,
              "#fb9f3a"
             ],
             [
              0.8888888888888888,
              "#fdca26"
             ],
             [
              1.0,
              "#f0f921"
             ]
            ]
           }
          ],
          "choropleth": [
           {
            "type": "choropleth",
            "colorbar": {
             "outlinewidth": 0,
             "ticks": ""
            }
           }
          ],
          "histogram2d": [
           {
            "type": "histogram2d",
            "colorbar": {
             "outlinewidth": 0,
             "ticks": ""
            },
            "colorscale": [
             [
              0.0,
              "#0d0887"
             ],
             [
              0.1111111111111111,
              "#46039f"
             ],
             [
              0.2222222222222222,
              "#7201a8"
             ],
             [
              0.3333333333333333,
              "#9c179e"
             ],
             [
              0.4444444444444444,
              "#bd3786"
             ],
             [
              0.5555555555555556,
              "#d8576b"
             ],
             [
              0.6666666666666666,
              "#ed7953"
             ],
             [
              0.7777777777777778,
              "#fb9f3a"
             ],
             [
              0.8888888888888888,
              "#fdca26"
             ],
             [
              1.0,
              "#f0f921"
             ]
            ]
           }
          ],
          "heatmap": [
           {
            "type": "heatmap",
            "colorbar": {
             "outlinewidth": 0,
             "ticks": ""
            },
            "colorscale": [
             [
              0.0,
              "#0d0887"
             ],
             [
              0.1111111111111111,
              "#46039f"
             ],
             [
              0.2222222222222222,
              "#7201a8"
             ],
             [
              0.3333333333333333,
              "#9c179e"
             ],
             [
              0.4444444444444444,
              "#bd3786"
             ],
             [
              0.5555555555555556,
              "#d8576b"
             ],
             [
              0.6666666666666666,
              "#ed7953"
             ],
             [
              0.7777777777777778,
              "#fb9f3a"
             ],
             [
              0.8888888888888888,
              "#fdca26"
             ],
             [
              1.0,
              "#f0f921"
             ]
            ]
           }
          ],
          "heatmapgl": [
           {
            "type": "heatmapgl",
            "colorbar": {
             "outlinewidth": 0,
             "ticks": ""
            },
            "colorscale": [
             [
              0.0,
              "#0d0887"
             ],
             [
              0.1111111111111111,
              "#46039f"
             ],
             [
              0.2222222222222222,
              "#7201a8"
             ],
             [
              0.3333333333333333,
              "#9c179e"
             ],
             [
              0.4444444444444444,
              "#bd3786"
             ],
             [
              0.5555555555555556,
              "#d8576b"
             ],
             [
              0.6666666666666666,
              "#ed7953"
             ],
             [
              0.7777777777777778,
              "#fb9f3a"
             ],
             [
              0.8888888888888888,
              "#fdca26"
             ],
             [
              1.0,
              "#f0f921"
             ]
            ]
           }
          ],
          "contourcarpet": [
           {
            "type": "contourcarpet",
            "colorbar": {
             "outlinewidth": 0,
             "ticks": ""
            }
           }
          ],
          "contour": [
           {
            "type": "contour",
            "colorbar": {
             "outlinewidth": 0,
             "ticks": ""
            },
            "colorscale": [
             [
              0.0,
              "#0d0887"
             ],
             [
              0.1111111111111111,
              "#46039f"
             ],
             [
              0.2222222222222222,
              "#7201a8"
             ],
             [
              0.3333333333333333,
              "#9c179e"
             ],
             [
              0.4444444444444444,
              "#bd3786"
             ],
             [
              0.5555555555555556,
              "#d8576b"
             ],
             [
              0.6666666666666666,
              "#ed7953"
             ],
             [
              0.7777777777777778,
              "#fb9f3a"
             ],
             [
              0.8888888888888888,
              "#fdca26"
             ],
             [
              1.0,
              "#f0f921"
             ]
            ]
           }
          ],
          "surface": [
           {
            "type": "surface",
            "colorbar": {
             "outlinewidth": 0,
             "ticks": ""
            },
            "colorscale": [
             [
              0.0,
              "#0d0887"
             ],
             [
              0.1111111111111111,
              "#46039f"
             ],
             [
              0.2222222222222222,
              "#7201a8"
             ],
             [
              0.3333333333333333,
              "#9c179e"
             ],
             [
              0.4444444444444444,
              "#bd3786"
             ],
             [
              0.5555555555555556,
              "#d8576b"
             ],
             [
              0.6666666666666666,
              "#ed7953"
             ],
             [
              0.7777777777777778,
              "#fb9f3a"
             ],
             [
              0.8888888888888888,
              "#fdca26"
             ],
             [
              1.0,
              "#f0f921"
             ]
            ]
           }
          ],
          "mesh3d": [
           {
            "type": "mesh3d",
            "colorbar": {
             "outlinewidth": 0,
             "ticks": ""
            }
           }
          ],
          "scatter": [
           {
            "fillpattern": {
             "fillmode": "overlay",
             "size": 10,
             "solidity": 0.2
            },
            "type": "scatter"
           }
          ],
          "parcoords": [
           {
            "type": "parcoords",
            "line": {
             "colorbar": {
              "outlinewidth": 0,
              "ticks": ""
             }
            }
           }
          ],
          "scatterpolargl": [
           {
            "type": "scatterpolargl",
            "marker": {
             "colorbar": {
              "outlinewidth": 0,
              "ticks": ""
             }
            }
           }
          ],
          "bar": [
           {
            "error_x": {
             "color": "#2a3f5f"
            },
            "error_y": {
             "color": "#2a3f5f"
            },
            "marker": {
             "line": {
              "color": "#E5ECF6",
              "width": 0.5
             },
             "pattern": {
              "fillmode": "overlay",
              "size": 10,
              "solidity": 0.2
             }
            },
            "type": "bar"
           }
          ],
          "scattergeo": [
           {
            "type": "scattergeo",
            "marker": {
             "colorbar": {
              "outlinewidth": 0,
              "ticks": ""
             }
            }
           }
          ],
          "scatterpolar": [
           {
            "type": "scatterpolar",
            "marker": {
             "colorbar": {
              "outlinewidth": 0,
              "ticks": ""
             }
            }
           }
          ],
          "histogram": [
           {
            "marker": {
             "pattern": {
              "fillmode": "overlay",
              "size": 10,
              "solidity": 0.2
             }
            },
            "type": "histogram"
           }
          ],
          "scattergl": [
           {
            "type": "scattergl",
            "marker": {
             "colorbar": {
              "outlinewidth": 0,
              "ticks": ""
             }
            }
           }
          ],
          "scatter3d": [
           {
            "type": "scatter3d",
            "line": {
             "colorbar": {
              "outlinewidth": 0,
              "ticks": ""
             }
            },
            "marker": {
             "colorbar": {
              "outlinewidth": 0,
              "ticks": ""
             }
            }
           }
          ],
          "scattermapbox": [
           {
            "type": "scattermapbox",
            "marker": {
             "colorbar": {
              "outlinewidth": 0,
              "ticks": ""
             }
            }
           }
          ],
          "scatterternary": [
           {
            "type": "scatterternary",
            "marker": {
             "colorbar": {
              "outlinewidth": 0,
              "ticks": ""
             }
            }
           }
          ],
          "scattercarpet": [
           {
            "type": "scattercarpet",
            "marker": {
             "colorbar": {
              "outlinewidth": 0,
              "ticks": ""
             }
            }
           }
          ],
          "carpet": [
           {
            "aaxis": {
             "endlinecolor": "#2a3f5f",
             "gridcolor": "white",
             "linecolor": "white",
             "minorgridcolor": "white",
             "startlinecolor": "#2a3f5f"
            },
            "baxis": {
             "endlinecolor": "#2a3f5f",
             "gridcolor": "white",
             "linecolor": "white",
             "minorgridcolor": "white",
             "startlinecolor": "#2a3f5f"
            },
            "type": "carpet"
           }
          ],
          "table": [
           {
            "cells": {
             "fill": {
              "color": "#EBF0F8"
             },
             "line": {
              "color": "white"
             }
            },
            "header": {
             "fill": {
              "color": "#C8D4E3"
             },
             "line": {
              "color": "white"
             }
            },
            "type": "table"
           }
          ],
          "barpolar": [
           {
            "marker": {
             "line": {
              "color": "#E5ECF6",
              "width": 0.5
             },
             "pattern": {
              "fillmode": "overlay",
              "size": 10,
              "solidity": 0.2
             }
            },
            "type": "barpolar"
           }
          ],
          "pie": [
           {
            "automargin": true,
            "type": "pie"
           }
          ]
         },
         "layout": {
          "autotypenumbers": "strict",
          "colorway": [
           "#636efa",
           "#EF553B",
           "#00cc96",
           "#ab63fa",
           "#FFA15A",
           "#19d3f3",
           "#FF6692",
           "#B6E880",
           "#FF97FF",
           "#FECB52"
          ],
          "font": {
           "color": "#2a3f5f"
          },
          "hovermode": "closest",
          "hoverlabel": {
           "align": "left"
          },
          "paper_bgcolor": "white",
          "plot_bgcolor": "#E5ECF6",
          "polar": {
           "bgcolor": "#E5ECF6",
           "angularaxis": {
            "gridcolor": "white",
            "linecolor": "white",
            "ticks": ""
           },
           "radialaxis": {
            "gridcolor": "white",
            "linecolor": "white",
            "ticks": ""
           }
          },
          "ternary": {
           "bgcolor": "#E5ECF6",
           "aaxis": {
            "gridcolor": "white",
            "linecolor": "white",
            "ticks": ""
           },
           "baxis": {
            "gridcolor": "white",
            "linecolor": "white",
            "ticks": ""
           },
           "caxis": {
            "gridcolor": "white",
            "linecolor": "white",
            "ticks": ""
           }
          },
          "coloraxis": {
           "colorbar": {
            "outlinewidth": 0,
            "ticks": ""
           }
          },
          "colorscale": {
           "sequential": [
            [
             0.0,
             "#0d0887"
            ],
            [
             0.1111111111111111,
             "#46039f"
            ],
            [
             0.2222222222222222,
             "#7201a8"
            ],
            [
             0.3333333333333333,
             "#9c179e"
            ],
            [
             0.4444444444444444,
             "#bd3786"
            ],
            [
             0.5555555555555556,
             "#d8576b"
            ],
            [
             0.6666666666666666,
             "#ed7953"
            ],
            [
             0.7777777777777778,
             "#fb9f3a"
            ],
            [
             0.8888888888888888,
             "#fdca26"
            ],
            [
             1.0,
             "#f0f921"
            ]
           ],
           "sequentialminus": [
            [
             0.0,
             "#0d0887"
            ],
            [
             0.1111111111111111,
             "#46039f"
            ],
            [
             0.2222222222222222,
             "#7201a8"
            ],
            [
             0.3333333333333333,
             "#9c179e"
            ],
            [
             0.4444444444444444,
             "#bd3786"
            ],
            [
             0.5555555555555556,
             "#d8576b"
            ],
            [
             0.6666666666666666,
             "#ed7953"
            ],
            [
             0.7777777777777778,
             "#fb9f3a"
            ],
            [
             0.8888888888888888,
             "#fdca26"
            ],
            [
             1.0,
             "#f0f921"
            ]
           ],
           "diverging": [
            [
             0,
             "#8e0152"
            ],
            [
             0.1,
             "#c51b7d"
            ],
            [
             0.2,
             "#de77ae"
            ],
            [
             0.3,
             "#f1b6da"
            ],
            [
             0.4,
             "#fde0ef"
            ],
            [
             0.5,
             "#f7f7f7"
            ],
            [
             0.6,
             "#e6f5d0"
            ],
            [
             0.7,
             "#b8e186"
            ],
            [
             0.8,
             "#7fbc41"
            ],
            [
             0.9,
             "#4d9221"
            ],
            [
             1,
             "#276419"
            ]
           ]
          },
          "xaxis": {
           "gridcolor": "white",
           "linecolor": "white",
           "ticks": "",
           "title": {
            "standoff": 15
           },
           "zerolinecolor": "white",
           "automargin": true,
           "zerolinewidth": 2
          },
          "yaxis": {
           "gridcolor": "white",
           "linecolor": "white",
           "ticks": "",
           "title": {
            "standoff": 15
           },
           "zerolinecolor": "white",
           "automargin": true,
           "zerolinewidth": 2
          },
          "scene": {
           "xaxis": {
            "backgroundcolor": "#E5ECF6",
            "gridcolor": "white",
            "linecolor": "white",
            "showbackground": true,
            "ticks": "",
            "zerolinecolor": "white",
            "gridwidth": 2
           },
           "yaxis": {
            "backgroundcolor": "#E5ECF6",
            "gridcolor": "white",
            "linecolor": "white",
            "showbackground": true,
            "ticks": "",
            "zerolinecolor": "white",
            "gridwidth": 2
           },
           "zaxis": {
            "backgroundcolor": "#E5ECF6",
            "gridcolor": "white",
            "linecolor": "white",
            "showbackground": true,
            "ticks": "",
            "zerolinecolor": "white",
            "gridwidth": 2
           }
          },
          "shapedefaults": {
           "line": {
            "color": "#2a3f5f"
           }
          },
          "annotationdefaults": {
           "arrowcolor": "#2a3f5f",
           "arrowhead": 0,
           "arrowwidth": 1
          },
          "geo": {
           "bgcolor": "white",
           "landcolor": "#E5ECF6",
           "subunitcolor": "white",
           "showland": true,
           "showlakes": true,
           "lakecolor": "white"
          },
          "title": {
           "x": 0.05
          },
          "mapbox": {
           "style": "light"
          }
         }
        },
        "xaxis": {
         "tickfont": {
          "size": 14
         },
         "title": {
          "text": "Part de la population"
         },
         "tickangle": -45
        },
        "yaxis": {
         "title": {
          "text": "Héritage net € (log)",
          "font": {
           "size": 16
          }
         },
         "tickfont": {
          "size": 14
         },
         "type": "log"
        },
        "legend": {
         "x": 0,
         "y": 1.0,
         "bgcolor": "rgba(255, 255, 255, 0)",
         "bordercolor": "rgba(255, 255, 255, 0)"
        },
        "title": {
         "text": "Héritage avant et après réforme de la fiscalité, pour chaque tranche"
        },
        "barmode": "group"
       },
       "config": {
        "plotlyServerURL": "https://plot.ly"
       }
      },
      "text/html": "<div>                            <div id=\"ab88ca22-7fb7-4d1d-8755-594b25f1337e\" class=\"plotly-graph-div\" style=\"height:525px; width:100%;\"></div>            <script type=\"text/javascript\">                require([\"plotly\"], function(Plotly) {                    window.PLOTLYENV=window.PLOTLYENV || {};                                    if (document.getElementById(\"ab88ca22-7fb7-4d1d-8755-594b25f1337e\")) {                    Plotly.newPlot(                        \"ab88ca22-7fb7-4d1d-8755-594b25f1337e\",                        [{\"line\":{\"color\":\"red\",\"dash\":\"dash\"},\"mode\":\"lines\",\"name\":\"H\\u00e9ritage de base\",\"x\":[\"0-10 %\",\"10-20 %\",\"20-30 %\",\"30-40 %\",\"40-50 %\",\"50-60 %\",\"60-70 %\",\"70-80 %\",\"80-90 %\",\"90-95 %\",\"95-99 %\",\"\\u003e1.0 %\",\"\\u003e0.5 %\",\"\\u003e0.1 %\"],\"y\":[52014.6776345291,52014.6776345291,52014.6776345291,52014.6776345291,52014.6776345291,52014.6776345291,52014.6776345291,52014.6776345291,52014.6776345291,52014.6776345291,52014.6776345291,52014.6776345291,52014.6776345291,52014.6776345291,52014.6776345291],\"type\":\"scatter\"},{\"marker\":{\"color\":\"rgb(55, 83, 109)\"},\"name\":\"Avant r\\u00e9forme\",\"x\":[\"0-10 %\",\"10-20 %\",\"20-30 %\",\"30-40 %\",\"40-50 %\",\"50-60 %\",\"60-70 %\",\"70-80 %\",\"80-90 %\",\"90-95 %\",\"95-99 %\",\"\\u003e1.0 %\",\"\\u003e0.5 %\",\"\\u003e0.1 %\"],\"y\":[0,15000,47000,65000,65000,65000,84000,164000,288000,510638,1100000,2500000,4042553,13000000],\"type\":\"bar\"},{\"marker\":{\"color\":\"rgb(26, 118, 255)\"},\"name\":\"Apr\\u00e8s r\\u00e9forme\",\"x\":[\"0-10 %\",\"10-20 %\",\"20-30 %\",\"30-40 %\",\"40-50 %\",\"50-60 %\",\"60-70 %\",\"70-80 %\",\"80-90 %\",\"90-95 %\",\"95-99 %\",\"\\u003e1.0 %\",\"\\u003e0.5 %\",\"\\u003e0.1 %\"],\"y\":[52014.6776345291,52014.6776345291,52014.6776345291,65000.0,65000.0,65000.0,83160.0,162343.43434343435,279183.67346938775,484042.2708333334,982978.7234042552,2177419.35483871,3427381.891304348,10111111.11111111],\"type\":\"bar\"}],                        {\"template\":{\"data\":{\"histogram2dcontour\":[{\"type\":\"histogram2dcontour\",\"colorbar\":{\"outlinewidth\":0,\"ticks\":\"\"},\"colorscale\":[[0.0,\"#0d0887\"],[0.1111111111111111,\"#46039f\"],[0.2222222222222222,\"#7201a8\"],[0.3333333333333333,\"#9c179e\"],[0.4444444444444444,\"#bd3786\"],[0.5555555555555556,\"#d8576b\"],[0.6666666666666666,\"#ed7953\"],[0.7777777777777778,\"#fb9f3a\"],[0.8888888888888888,\"#fdca26\"],[1.0,\"#f0f921\"]]}],\"choropleth\":[{\"type\":\"choropleth\",\"colorbar\":{\"outlinewidth\":0,\"ticks\":\"\"}}],\"histogram2d\":[{\"type\":\"histogram2d\",\"colorbar\":{\"outlinewidth\":0,\"ticks\":\"\"},\"colorscale\":[[0.0,\"#0d0887\"],[0.1111111111111111,\"#46039f\"],[0.2222222222222222,\"#7201a8\"],[0.3333333333333333,\"#9c179e\"],[0.4444444444444444,\"#bd3786\"],[0.5555555555555556,\"#d8576b\"],[0.6666666666666666,\"#ed7953\"],[0.7777777777777778,\"#fb9f3a\"],[0.8888888888888888,\"#fdca26\"],[1.0,\"#f0f921\"]]}],\"heatmap\":[{\"type\":\"heatmap\",\"colorbar\":{\"outlinewidth\":0,\"ticks\":\"\"},\"colorscale\":[[0.0,\"#0d0887\"],[0.1111111111111111,\"#46039f\"],[0.2222222222222222,\"#7201a8\"],[0.3333333333333333,\"#9c179e\"],[0.4444444444444444,\"#bd3786\"],[0.5555555555555556,\"#d8576b\"],[0.6666666666666666,\"#ed7953\"],[0.7777777777777778,\"#fb9f3a\"],[0.8888888888888888,\"#fdca26\"],[1.0,\"#f0f921\"]]}],\"heatmapgl\":[{\"type\":\"heatmapgl\",\"colorbar\":{\"outlinewidth\":0,\"ticks\":\"\"},\"colorscale\":[[0.0,\"#0d0887\"],[0.1111111111111111,\"#46039f\"],[0.2222222222222222,\"#7201a8\"],[0.3333333333333333,\"#9c179e\"],[0.4444444444444444,\"#bd3786\"],[0.5555555555555556,\"#d8576b\"],[0.6666666666666666,\"#ed7953\"],[0.7777777777777778,\"#fb9f3a\"],[0.8888888888888888,\"#fdca26\"],[1.0,\"#f0f921\"]]}],\"contourcarpet\":[{\"type\":\"contourcarpet\",\"colorbar\":{\"outlinewidth\":0,\"ticks\":\"\"}}],\"contour\":[{\"type\":\"contour\",\"colorbar\":{\"outlinewidth\":0,\"ticks\":\"\"},\"colorscale\":[[0.0,\"#0d0887\"],[0.1111111111111111,\"#46039f\"],[0.2222222222222222,\"#7201a8\"],[0.3333333333333333,\"#9c179e\"],[0.4444444444444444,\"#bd3786\"],[0.5555555555555556,\"#d8576b\"],[0.6666666666666666,\"#ed7953\"],[0.7777777777777778,\"#fb9f3a\"],[0.8888888888888888,\"#fdca26\"],[1.0,\"#f0f921\"]]}],\"surface\":[{\"type\":\"surface\",\"colorbar\":{\"outlinewidth\":0,\"ticks\":\"\"},\"colorscale\":[[0.0,\"#0d0887\"],[0.1111111111111111,\"#46039f\"],[0.2222222222222222,\"#7201a8\"],[0.3333333333333333,\"#9c179e\"],[0.4444444444444444,\"#bd3786\"],[0.5555555555555556,\"#d8576b\"],[0.6666666666666666,\"#ed7953\"],[0.7777777777777778,\"#fb9f3a\"],[0.8888888888888888,\"#fdca26\"],[1.0,\"#f0f921\"]]}],\"mesh3d\":[{\"type\":\"mesh3d\",\"colorbar\":{\"outlinewidth\":0,\"ticks\":\"\"}}],\"scatter\":[{\"fillpattern\":{\"fillmode\":\"overlay\",\"size\":10,\"solidity\":0.2},\"type\":\"scatter\"}],\"parcoords\":[{\"type\":\"parcoords\",\"line\":{\"colorbar\":{\"outlinewidth\":0,\"ticks\":\"\"}}}],\"scatterpolargl\":[{\"type\":\"scatterpolargl\",\"marker\":{\"colorbar\":{\"outlinewidth\":0,\"ticks\":\"\"}}}],\"bar\":[{\"error_x\":{\"color\":\"#2a3f5f\"},\"error_y\":{\"color\":\"#2a3f5f\"},\"marker\":{\"line\":{\"color\":\"#E5ECF6\",\"width\":0.5},\"pattern\":{\"fillmode\":\"overlay\",\"size\":10,\"solidity\":0.2}},\"type\":\"bar\"}],\"scattergeo\":[{\"type\":\"scattergeo\",\"marker\":{\"colorbar\":{\"outlinewidth\":0,\"ticks\":\"\"}}}],\"scatterpolar\":[{\"type\":\"scatterpolar\",\"marker\":{\"colorbar\":{\"outlinewidth\":0,\"ticks\":\"\"}}}],\"histogram\":[{\"marker\":{\"pattern\":{\"fillmode\":\"overlay\",\"size\":10,\"solidity\":0.2}},\"type\":\"histogram\"}],\"scattergl\":[{\"type\":\"scattergl\",\"marker\":{\"colorbar\":{\"outlinewidth\":0,\"ticks\":\"\"}}}],\"scatter3d\":[{\"type\":\"scatter3d\",\"line\":{\"colorbar\":{\"outlinewidth\":0,\"ticks\":\"\"}},\"marker\":{\"colorbar\":{\"outlinewidth\":0,\"ticks\":\"\"}}}],\"scattermapbox\":[{\"type\":\"scattermapbox\",\"marker\":{\"colorbar\":{\"outlinewidth\":0,\"ticks\":\"\"}}}],\"scatterternary\":[{\"type\":\"scatterternary\",\"marker\":{\"colorbar\":{\"outlinewidth\":0,\"ticks\":\"\"}}}],\"scattercarpet\":[{\"type\":\"scattercarpet\",\"marker\":{\"colorbar\":{\"outlinewidth\":0,\"ticks\":\"\"}}}],\"carpet\":[{\"aaxis\":{\"endlinecolor\":\"#2a3f5f\",\"gridcolor\":\"white\",\"linecolor\":\"white\",\"minorgridcolor\":\"white\",\"startlinecolor\":\"#2a3f5f\"},\"baxis\":{\"endlinecolor\":\"#2a3f5f\",\"gridcolor\":\"white\",\"linecolor\":\"white\",\"minorgridcolor\":\"white\",\"startlinecolor\":\"#2a3f5f\"},\"type\":\"carpet\"}],\"table\":[{\"cells\":{\"fill\":{\"color\":\"#EBF0F8\"},\"line\":{\"color\":\"white\"}},\"header\":{\"fill\":{\"color\":\"#C8D4E3\"},\"line\":{\"color\":\"white\"}},\"type\":\"table\"}],\"barpolar\":[{\"marker\":{\"line\":{\"color\":\"#E5ECF6\",\"width\":0.5},\"pattern\":{\"fillmode\":\"overlay\",\"size\":10,\"solidity\":0.2}},\"type\":\"barpolar\"}],\"pie\":[{\"automargin\":true,\"type\":\"pie\"}]},\"layout\":{\"autotypenumbers\":\"strict\",\"colorway\":[\"#636efa\",\"#EF553B\",\"#00cc96\",\"#ab63fa\",\"#FFA15A\",\"#19d3f3\",\"#FF6692\",\"#B6E880\",\"#FF97FF\",\"#FECB52\"],\"font\":{\"color\":\"#2a3f5f\"},\"hovermode\":\"closest\",\"hoverlabel\":{\"align\":\"left\"},\"paper_bgcolor\":\"white\",\"plot_bgcolor\":\"#E5ECF6\",\"polar\":{\"bgcolor\":\"#E5ECF6\",\"angularaxis\":{\"gridcolor\":\"white\",\"linecolor\":\"white\",\"ticks\":\"\"},\"radialaxis\":{\"gridcolor\":\"white\",\"linecolor\":\"white\",\"ticks\":\"\"}},\"ternary\":{\"bgcolor\":\"#E5ECF6\",\"aaxis\":{\"gridcolor\":\"white\",\"linecolor\":\"white\",\"ticks\":\"\"},\"baxis\":{\"gridcolor\":\"white\",\"linecolor\":\"white\",\"ticks\":\"\"},\"caxis\":{\"gridcolor\":\"white\",\"linecolor\":\"white\",\"ticks\":\"\"}},\"coloraxis\":{\"colorbar\":{\"outlinewidth\":0,\"ticks\":\"\"}},\"colorscale\":{\"sequential\":[[0.0,\"#0d0887\"],[0.1111111111111111,\"#46039f\"],[0.2222222222222222,\"#7201a8\"],[0.3333333333333333,\"#9c179e\"],[0.4444444444444444,\"#bd3786\"],[0.5555555555555556,\"#d8576b\"],[0.6666666666666666,\"#ed7953\"],[0.7777777777777778,\"#fb9f3a\"],[0.8888888888888888,\"#fdca26\"],[1.0,\"#f0f921\"]],\"sequentialminus\":[[0.0,\"#0d0887\"],[0.1111111111111111,\"#46039f\"],[0.2222222222222222,\"#7201a8\"],[0.3333333333333333,\"#9c179e\"],[0.4444444444444444,\"#bd3786\"],[0.5555555555555556,\"#d8576b\"],[0.6666666666666666,\"#ed7953\"],[0.7777777777777778,\"#fb9f3a\"],[0.8888888888888888,\"#fdca26\"],[1.0,\"#f0f921\"]],\"diverging\":[[0,\"#8e0152\"],[0.1,\"#c51b7d\"],[0.2,\"#de77ae\"],[0.3,\"#f1b6da\"],[0.4,\"#fde0ef\"],[0.5,\"#f7f7f7\"],[0.6,\"#e6f5d0\"],[0.7,\"#b8e186\"],[0.8,\"#7fbc41\"],[0.9,\"#4d9221\"],[1,\"#276419\"]]},\"xaxis\":{\"gridcolor\":\"white\",\"linecolor\":\"white\",\"ticks\":\"\",\"title\":{\"standoff\":15},\"zerolinecolor\":\"white\",\"automargin\":true,\"zerolinewidth\":2},\"yaxis\":{\"gridcolor\":\"white\",\"linecolor\":\"white\",\"ticks\":\"\",\"title\":{\"standoff\":15},\"zerolinecolor\":\"white\",\"automargin\":true,\"zerolinewidth\":2},\"scene\":{\"xaxis\":{\"backgroundcolor\":\"#E5ECF6\",\"gridcolor\":\"white\",\"linecolor\":\"white\",\"showbackground\":true,\"ticks\":\"\",\"zerolinecolor\":\"white\",\"gridwidth\":2},\"yaxis\":{\"backgroundcolor\":\"#E5ECF6\",\"gridcolor\":\"white\",\"linecolor\":\"white\",\"showbackground\":true,\"ticks\":\"\",\"zerolinecolor\":\"white\",\"gridwidth\":2},\"zaxis\":{\"backgroundcolor\":\"#E5ECF6\",\"gridcolor\":\"white\",\"linecolor\":\"white\",\"showbackground\":true,\"ticks\":\"\",\"zerolinecolor\":\"white\",\"gridwidth\":2}},\"shapedefaults\":{\"line\":{\"color\":\"#2a3f5f\"}},\"annotationdefaults\":{\"arrowcolor\":\"#2a3f5f\",\"arrowhead\":0,\"arrowwidth\":1},\"geo\":{\"bgcolor\":\"white\",\"landcolor\":\"#E5ECF6\",\"subunitcolor\":\"white\",\"showland\":true,\"showlakes\":true,\"lakecolor\":\"white\"},\"title\":{\"x\":0.05},\"mapbox\":{\"style\":\"light\"}}},\"xaxis\":{\"tickfont\":{\"size\":14},\"title\":{\"text\":\"Part de la population\"},\"tickangle\":-45},\"yaxis\":{\"title\":{\"text\":\"H\\u00e9ritage net \\u20ac (log)\",\"font\":{\"size\":16}},\"tickfont\":{\"size\":14},\"type\":\"log\"},\"legend\":{\"x\":0,\"y\":1.0,\"bgcolor\":\"rgba(255, 255, 255, 0)\",\"bordercolor\":\"rgba(255, 255, 255, 0)\"},\"title\":{\"text\":\"H\\u00e9ritage avant et apr\\u00e8s r\\u00e9forme de la fiscalit\\u00e9, pour chaque tranche\"},\"barmode\":\"group\"},                        {\"responsive\": true}                    ).then(function(){\n                            \nvar gd = document.getElementById('ab88ca22-7fb7-4d1d-8755-594b25f1337e');\nvar x = new MutationObserver(function (mutations, observer) {{\n        var display = window.getComputedStyle(gd).display;\n        if (!display || display === 'none') {{\n            console.log([gd, 'removed!']);\n            Plotly.purge(gd);\n            observer.disconnect();\n        }}\n}});\n\n// Listen for the removal of the full notebook cells\nvar notebookContainer = gd.closest('#notebook-container');\nif (notebookContainer) {{\n    x.observe(notebookContainer, {childList: true});\n}}\n\n// Listen for the clearing of the current output cell\nvar outputEl = gd.closest('.output');\nif (outputEl) {{\n    x.observe(outputEl, {childList: true});\n}}\n\n                        })                };                });            </script>        </div>"
     },
     "metadata": {},
     "output_type": "display_data"
    }
   ],
   "source": [
    "compare(df, \"assiette2-bareme2\")"
   ],
   "metadata": {
    "collapsed": false,
    "ExecuteTime": {
     "end_time": "2023-08-20T14:20:22.567129014Z",
     "start_time": "2023-08-20T14:20:22.483807049Z"
    }
   }
  },
  {
   "cell_type": "code",
   "execution_count": null,
   "outputs": [],
   "source": [],
   "metadata": {
    "collapsed": false
   }
  }
 ],
 "metadata": {
  "kernelspec": {
   "display_name": "Python 3 (ipykernel)",
   "language": "python",
   "name": "python3"
  },
  "language_info": {
   "codemirror_mode": {
    "name": "ipython",
    "version": 3
   },
   "file_extension": ".py",
   "mimetype": "text/x-python",
   "name": "python",
   "nbconvert_exporter": "python",
   "pygments_lexer": "ipython3",
   "version": "3.10.6"
  }
 },
 "nbformat": 4,
 "nbformat_minor": 1
}
