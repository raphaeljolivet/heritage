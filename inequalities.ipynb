{
 "cells": [
  {
   "cell_type": "markdown",
   "source": [
    "<h1 style=\"text-align:center\">Héritage CAE</h1> \n",
    "\n",
    "Ce Notebook est un travail préparatif au développement d'un Simulateur de réforme de l'héritage basé sur les [travaux du CAE-ECO](https://www.cae-eco.fr/repenser-lheritage) "
   ],
   "metadata": {
    "collapsed": false
   }
  },
  {
   "cell_type": "code",
   "execution_count": 69,
   "metadata": {
    "ExecuteTime": {
     "end_time": "2023-07-29T16:01:32.941776768Z",
     "start_time": "2023-07-29T16:01:32.898624848Z"
    }
   },
   "outputs": [],
   "source": [
    "%matplotlib widget\n",
    "import numpy as np\n",
    "import pandas as pd"
   ]
  },
  {
   "cell_type": "markdown",
   "metadata": {},
   "source": [
    "# Import des données\n",
    "\n",
    "## Héritage net par quantile\n",
    "\n",
    "Sources : graphique [33 & 34 du Focus](doc/cae-focus077-2021.pdf)"
   ]
  },
  {
   "cell_type": "code",
   "execution_count": 70,
   "metadata": {
    "ExecuteTime": {
     "end_time": "2023-07-29T16:01:34.927614283Z",
     "start_time": "2023-07-29T16:01:34.920467931Z"
    }
   },
   "outputs": [
    {
     "data": {
      "text/plain": "       heritage\nquant          \n10.0          0\n20.0      15000\n30.0      47000\n40.0      65000\n50.0      65000\n60.0      65000\n70.0      84000\n80.0     164000\n90.0     288000\n95.0     510638\n99.0    1100000\n99.5    2500000\n99.9    4042553\n100.0  13000000",
      "text/html": "<div>\n<style scoped>\n    .dataframe tbody tr th:only-of-type {\n        vertical-align: middle;\n    }\n\n    .dataframe tbody tr th {\n        vertical-align: top;\n    }\n\n    .dataframe thead th {\n        text-align: right;\n    }\n</style>\n<table border=\"1\" class=\"dataframe\">\n  <thead>\n    <tr style=\"text-align: right;\">\n      <th></th>\n      <th>heritage</th>\n    </tr>\n    <tr>\n      <th>quant</th>\n      <th></th>\n    </tr>\n  </thead>\n  <tbody>\n    <tr>\n      <th>10.0</th>\n      <td>0</td>\n    </tr>\n    <tr>\n      <th>20.0</th>\n      <td>15000</td>\n    </tr>\n    <tr>\n      <th>30.0</th>\n      <td>47000</td>\n    </tr>\n    <tr>\n      <th>40.0</th>\n      <td>65000</td>\n    </tr>\n    <tr>\n      <th>50.0</th>\n      <td>65000</td>\n    </tr>\n    <tr>\n      <th>60.0</th>\n      <td>65000</td>\n    </tr>\n    <tr>\n      <th>70.0</th>\n      <td>84000</td>\n    </tr>\n    <tr>\n      <th>80.0</th>\n      <td>164000</td>\n    </tr>\n    <tr>\n      <th>90.0</th>\n      <td>288000</td>\n    </tr>\n    <tr>\n      <th>95.0</th>\n      <td>510638</td>\n    </tr>\n    <tr>\n      <th>99.0</th>\n      <td>1100000</td>\n    </tr>\n    <tr>\n      <th>99.5</th>\n      <td>2500000</td>\n    </tr>\n    <tr>\n      <th>99.9</th>\n      <td>4042553</td>\n    </tr>\n    <tr>\n      <th>100.0</th>\n      <td>13000000</td>\n    </tr>\n  </tbody>\n</table>\n</div>"
     },
     "execution_count": 70,
     "metadata": {},
     "output_type": "execute_result"
    }
   ],
   "source": [
    "# Read inheritance data\n",
    "df_herit = pd.read_csv(\"data/heritage.csv\", comment=\"#\")\n",
    "df_herit = df_herit.rename(columns={key: key.split(\"[\")[0] for key in df.columns})\n",
    "df_herit.quant = df_herit.quant\n",
    "df_herit = df_herit.set_index(\"quant\")\n",
    "df_herit"
   ]
  },
  {
   "cell_type": "markdown",
   "source": [
    "## Taux effectif d'imposition pour chaque scenario\n",
    "\n",
    "Source: Graphique 28 du [Focus](doc/cae-focus077-2021.pdf), page 31. "
   ],
   "metadata": {
    "collapsed": false
   }
  },
  {
   "cell_type": "code",
   "execution_count": 71,
   "outputs": [
    {
     "name": "stdout",
     "output_type": "stream",
     "text": [
      "Scenarios ['actuel', 'assiette1-bareme1', 'assiette2-bareme2', 'assiette1-bareme3', 'assiette2-bareme4']\n"
     ]
    },
    {
     "data": {
      "text/plain": "       heritage  actuel  assiette1-bareme1  assiette2-bareme2  \\\nquant                                                           \n10.0          0     0.0                0.0                0.0   \n20.0      15000     0.0                0.0                0.0   \n30.0      47000     0.0                0.0                0.0   \n40.0      65000     0.0                0.0                0.0   \n50.0      65000     0.0                0.0                0.0   \n60.0      65000     0.0                0.0                0.0   \n70.0      84000     0.0                1.0                1.0   \n80.0     164000     1.0                1.0                2.0   \n90.0     288000     2.0                2.0                5.0   \n95.0     510638     4.0                8.0                9.0   \n99.0    1100000     6.0               11.0               16.0   \n99.5    2500000     7.0               12.0               19.0   \n99.9    4042553     8.0               15.0               22.0   \n100.0  13000000    10.0               21.0               30.0   \n\n       assiette1-bareme3  assiette2-bareme4  \nquant                                        \n10.0                 0.0                0.0  \n20.0                 0.0                0.0  \n30.0                 0.0                0.0  \n40.0                 0.0                0.0  \n50.0                 0.0                0.0  \n60.0                 0.0                0.0  \n70.0                 0.0                0.0  \n80.0                 0.0                0.0  \n90.0                 1.0                1.0  \n95.0                 2.0                3.0  \n99.0                 4.0                7.0  \n99.5                 8.0               20.0  \n99.9                11.0               26.0  \n100.0               19.0               42.0  ",
      "text/html": "<div>\n<style scoped>\n    .dataframe tbody tr th:only-of-type {\n        vertical-align: middle;\n    }\n\n    .dataframe tbody tr th {\n        vertical-align: top;\n    }\n\n    .dataframe thead th {\n        text-align: right;\n    }\n</style>\n<table border=\"1\" class=\"dataframe\">\n  <thead>\n    <tr style=\"text-align: right;\">\n      <th></th>\n      <th>heritage</th>\n      <th>actuel</th>\n      <th>assiette1-bareme1</th>\n      <th>assiette2-bareme2</th>\n      <th>assiette1-bareme3</th>\n      <th>assiette2-bareme4</th>\n    </tr>\n    <tr>\n      <th>quant</th>\n      <th></th>\n      <th></th>\n      <th></th>\n      <th></th>\n      <th></th>\n      <th></th>\n    </tr>\n  </thead>\n  <tbody>\n    <tr>\n      <th>10.0</th>\n      <td>0</td>\n      <td>0.0</td>\n      <td>0.0</td>\n      <td>0.0</td>\n      <td>0.0</td>\n      <td>0.0</td>\n    </tr>\n    <tr>\n      <th>20.0</th>\n      <td>15000</td>\n      <td>0.0</td>\n      <td>0.0</td>\n      <td>0.0</td>\n      <td>0.0</td>\n      <td>0.0</td>\n    </tr>\n    <tr>\n      <th>30.0</th>\n      <td>47000</td>\n      <td>0.0</td>\n      <td>0.0</td>\n      <td>0.0</td>\n      <td>0.0</td>\n      <td>0.0</td>\n    </tr>\n    <tr>\n      <th>40.0</th>\n      <td>65000</td>\n      <td>0.0</td>\n      <td>0.0</td>\n      <td>0.0</td>\n      <td>0.0</td>\n      <td>0.0</td>\n    </tr>\n    <tr>\n      <th>50.0</th>\n      <td>65000</td>\n      <td>0.0</td>\n      <td>0.0</td>\n      <td>0.0</td>\n      <td>0.0</td>\n      <td>0.0</td>\n    </tr>\n    <tr>\n      <th>60.0</th>\n      <td>65000</td>\n      <td>0.0</td>\n      <td>0.0</td>\n      <td>0.0</td>\n      <td>0.0</td>\n      <td>0.0</td>\n    </tr>\n    <tr>\n      <th>70.0</th>\n      <td>84000</td>\n      <td>0.0</td>\n      <td>1.0</td>\n      <td>1.0</td>\n      <td>0.0</td>\n      <td>0.0</td>\n    </tr>\n    <tr>\n      <th>80.0</th>\n      <td>164000</td>\n      <td>1.0</td>\n      <td>1.0</td>\n      <td>2.0</td>\n      <td>0.0</td>\n      <td>0.0</td>\n    </tr>\n    <tr>\n      <th>90.0</th>\n      <td>288000</td>\n      <td>2.0</td>\n      <td>2.0</td>\n      <td>5.0</td>\n      <td>1.0</td>\n      <td>1.0</td>\n    </tr>\n    <tr>\n      <th>95.0</th>\n      <td>510638</td>\n      <td>4.0</td>\n      <td>8.0</td>\n      <td>9.0</td>\n      <td>2.0</td>\n      <td>3.0</td>\n    </tr>\n    <tr>\n      <th>99.0</th>\n      <td>1100000</td>\n      <td>6.0</td>\n      <td>11.0</td>\n      <td>16.0</td>\n      <td>4.0</td>\n      <td>7.0</td>\n    </tr>\n    <tr>\n      <th>99.5</th>\n      <td>2500000</td>\n      <td>7.0</td>\n      <td>12.0</td>\n      <td>19.0</td>\n      <td>8.0</td>\n      <td>20.0</td>\n    </tr>\n    <tr>\n      <th>99.9</th>\n      <td>4042553</td>\n      <td>8.0</td>\n      <td>15.0</td>\n      <td>22.0</td>\n      <td>11.0</td>\n      <td>26.0</td>\n    </tr>\n    <tr>\n      <th>100.0</th>\n      <td>13000000</td>\n      <td>10.0</td>\n      <td>21.0</td>\n      <td>30.0</td>\n      <td>19.0</td>\n      <td>42.0</td>\n    </tr>\n  </tbody>\n</table>\n</div>"
     },
     "execution_count": 71,
     "metadata": {},
     "output_type": "execute_result"
    }
   ],
   "source": [
    "# Read taux effectif\n",
    "df_taux = pd.read_csv(\"data/taux_effectifs.csv\", comment=\"#\")\n",
    "df_taux = df_taux.rename(columns={key: key.split(\"[\")[0] for key in df.columns})\n",
    "df_taux.quant = df_taux.quant\n",
    "df_taux = df_taux.set_index(\"quant\")\n",
    "df_taux\n",
    "\n",
    "SCENARIOS = list(df_taux.columns)\n",
    "\n",
    "print(\"Scenarios\", SCENARIOS)\n",
    "\n",
    "# Jointure des deux ensembles de données\n",
    "df = df_herit.join(df_taux)\n",
    "df"
   ],
   "metadata": {
    "collapsed": false,
    "ExecuteTime": {
     "end_time": "2023-07-29T16:01:38.695577849Z",
     "start_time": "2023-07-29T16:01:38.647666725Z"
    }
   }
  },
  {
   "cell_type": "markdown",
   "source": [
    "# Calculs \n",
    "\n",
    "## Volumes\n",
    "\n",
    "On calcule les volumes moyen d'héritage pour chaque quantile."
   ],
   "metadata": {
    "collapsed": false
   }
  },
  {
   "cell_type": "code",
   "execution_count": 73,
   "metadata": {
    "ExecuteTime": {
     "end_time": "2023-07-29T16:01:57.445126364Z",
     "start_time": "2023-07-29T16:01:57.353292606Z"
    }
   },
   "outputs": [
    {
     "data": {
      "text/plain": "       heritage  actuel  assiette1-bareme1  assiette2-bareme2  \\\nquant                                                           \n10.0          0     0.0                0.0                0.0   \n20.0      15000     0.0                0.0                0.0   \n30.0      47000     0.0                0.0                0.0   \n40.0      65000     0.0                0.0                0.0   \n50.0      65000     0.0                0.0                0.0   \n60.0      65000     0.0                0.0                0.0   \n70.0      84000     0.0                1.0                1.0   \n80.0     164000     1.0                1.0                2.0   \n90.0     288000     2.0                2.0                5.0   \n95.0     510638     4.0                8.0                9.0   \n99.0    1100000     6.0               11.0               16.0   \n99.5    2500000     7.0               12.0               19.0   \n99.9    4042553     8.0               15.0               22.0   \n100.0  13000000    10.0               21.0               30.0   \n\n       assiette1-bareme3  assiette2-bareme4    volumes  \nquant                                                   \n10.0                 0.0                0.0      0.000  \n20.0                 0.0                0.0   1500.000  \n30.0                 0.0                0.0   4700.000  \n40.0                 0.0                0.0   6500.000  \n50.0                 0.0                0.0   6500.000  \n60.0                 0.0                0.0   6500.000  \n70.0                 0.0                0.0   8400.000  \n80.0                 0.0                0.0  16400.000  \n90.0                 1.0                1.0  28800.000  \n95.0                 2.0                3.0  25531.900  \n99.0                 4.0                7.0  44000.000  \n99.5                 8.0               20.0  12500.000  \n99.9                11.0               26.0  16170.212  \n100.0               19.0               42.0  13000.000  ",
      "text/html": "<div>\n<style scoped>\n    .dataframe tbody tr th:only-of-type {\n        vertical-align: middle;\n    }\n\n    .dataframe tbody tr th {\n        vertical-align: top;\n    }\n\n    .dataframe thead th {\n        text-align: right;\n    }\n</style>\n<table border=\"1\" class=\"dataframe\">\n  <thead>\n    <tr style=\"text-align: right;\">\n      <th></th>\n      <th>heritage</th>\n      <th>actuel</th>\n      <th>assiette1-bareme1</th>\n      <th>assiette2-bareme2</th>\n      <th>assiette1-bareme3</th>\n      <th>assiette2-bareme4</th>\n      <th>volumes</th>\n    </tr>\n    <tr>\n      <th>quant</th>\n      <th></th>\n      <th></th>\n      <th></th>\n      <th></th>\n      <th></th>\n      <th></th>\n      <th></th>\n    </tr>\n  </thead>\n  <tbody>\n    <tr>\n      <th>10.0</th>\n      <td>0</td>\n      <td>0.0</td>\n      <td>0.0</td>\n      <td>0.0</td>\n      <td>0.0</td>\n      <td>0.0</td>\n      <td>0.000</td>\n    </tr>\n    <tr>\n      <th>20.0</th>\n      <td>15000</td>\n      <td>0.0</td>\n      <td>0.0</td>\n      <td>0.0</td>\n      <td>0.0</td>\n      <td>0.0</td>\n      <td>1500.000</td>\n    </tr>\n    <tr>\n      <th>30.0</th>\n      <td>47000</td>\n      <td>0.0</td>\n      <td>0.0</td>\n      <td>0.0</td>\n      <td>0.0</td>\n      <td>0.0</td>\n      <td>4700.000</td>\n    </tr>\n    <tr>\n      <th>40.0</th>\n      <td>65000</td>\n      <td>0.0</td>\n      <td>0.0</td>\n      <td>0.0</td>\n      <td>0.0</td>\n      <td>0.0</td>\n      <td>6500.000</td>\n    </tr>\n    <tr>\n      <th>50.0</th>\n      <td>65000</td>\n      <td>0.0</td>\n      <td>0.0</td>\n      <td>0.0</td>\n      <td>0.0</td>\n      <td>0.0</td>\n      <td>6500.000</td>\n    </tr>\n    <tr>\n      <th>60.0</th>\n      <td>65000</td>\n      <td>0.0</td>\n      <td>0.0</td>\n      <td>0.0</td>\n      <td>0.0</td>\n      <td>0.0</td>\n      <td>6500.000</td>\n    </tr>\n    <tr>\n      <th>70.0</th>\n      <td>84000</td>\n      <td>0.0</td>\n      <td>1.0</td>\n      <td>1.0</td>\n      <td>0.0</td>\n      <td>0.0</td>\n      <td>8400.000</td>\n    </tr>\n    <tr>\n      <th>80.0</th>\n      <td>164000</td>\n      <td>1.0</td>\n      <td>1.0</td>\n      <td>2.0</td>\n      <td>0.0</td>\n      <td>0.0</td>\n      <td>16400.000</td>\n    </tr>\n    <tr>\n      <th>90.0</th>\n      <td>288000</td>\n      <td>2.0</td>\n      <td>2.0</td>\n      <td>5.0</td>\n      <td>1.0</td>\n      <td>1.0</td>\n      <td>28800.000</td>\n    </tr>\n    <tr>\n      <th>95.0</th>\n      <td>510638</td>\n      <td>4.0</td>\n      <td>8.0</td>\n      <td>9.0</td>\n      <td>2.0</td>\n      <td>3.0</td>\n      <td>25531.900</td>\n    </tr>\n    <tr>\n      <th>99.0</th>\n      <td>1100000</td>\n      <td>6.0</td>\n      <td>11.0</td>\n      <td>16.0</td>\n      <td>4.0</td>\n      <td>7.0</td>\n      <td>44000.000</td>\n    </tr>\n    <tr>\n      <th>99.5</th>\n      <td>2500000</td>\n      <td>7.0</td>\n      <td>12.0</td>\n      <td>19.0</td>\n      <td>8.0</td>\n      <td>20.0</td>\n      <td>12500.000</td>\n    </tr>\n    <tr>\n      <th>99.9</th>\n      <td>4042553</td>\n      <td>8.0</td>\n      <td>15.0</td>\n      <td>22.0</td>\n      <td>11.0</td>\n      <td>26.0</td>\n      <td>16170.212</td>\n    </tr>\n    <tr>\n      <th>100.0</th>\n      <td>13000000</td>\n      <td>10.0</td>\n      <td>21.0</td>\n      <td>30.0</td>\n      <td>19.0</td>\n      <td>42.0</td>\n      <td>13000.000</td>\n    </tr>\n  </tbody>\n</table>\n</div>"
     },
     "metadata": {},
     "output_type": "display_data"
    },
    {
     "name": "stdout",
     "output_type": "stream",
     "text": [
      "Héritage net moyen 190502.1119999995\n",
      "Base calculée (sur hypothèse flux de succession 300 Mds€): 1574785.6905649465\n"
     ]
    }
   ],
   "source": [
    "# Compute volumes for each quantile\n",
    "quantiles = np.insert(df.index.values, 0, [0])\n",
    "df[\"volumes\"]  = df.heritage.values * (quantiles[1:] - quantiles[0:-1]) / 100\n",
    "\n",
    "display(df)\n",
    "\n",
    "average = df.volumes.sum()\n",
    "print(\"Héritage net moyen\", df.volumes.sum())\n",
    "\n",
    "base = 300*10**9 / average\n",
    "\n",
    "print(\"Base calculée (sur hypothèse flux de succession 300 Mds€):\", base)"
   ]
  },
  {
   "cell_type": "markdown",
   "source": [
    "### Quelle est la base de la distribution ?\n",
    "\n",
    "<div style=\"background:yellow\">\n",
    "⚠ Question : Quelle est la \"base\" de ces quantiles ?\n",
    "\n",
    "On trouve un héritage net moyen de 190k€.\n",
    "Rapporté à un flux de 300 Md € [page 5 de la Note](./doc/cae-note069s.pdf), ça ferait une base de <b>1.5 millions de ??<> héritages / de décès / d'héritiers ? Ca semble loin des 720k naissances / 667k décès annuels.\n",
    "</div>"
   ],
   "metadata": {
    "collapsed": false
   }
  },
  {
   "cell_type": "markdown",
   "source": [
    "## Recettes fiscales\n",
    "\n",
    "Calcul des héritages bruts, avant imposition actuelle.\n",
    "Puis calcul des recettes fiscales pour chaque scenario."
   ],
   "metadata": {
    "collapsed": false
   }
  },
  {
   "cell_type": "code",
   "execution_count": 74,
   "outputs": [
    {
     "data": {
      "text/plain": "                   recettes_moyennes  recettes_diff\nscenario                                           \nactuel                   8417.161523       0.000000\nassiette1-bareme1       15396.690339    6979.528816\nassiette2-bareme2       22521.564814   14104.403290\nassiette1-bareme3        8451.240735      34.079211\nassiette2-bareme4       17693.026402    9275.864879",
      "text/html": "<div>\n<style scoped>\n    .dataframe tbody tr th:only-of-type {\n        vertical-align: middle;\n    }\n\n    .dataframe tbody tr th {\n        vertical-align: top;\n    }\n\n    .dataframe thead th {\n        text-align: right;\n    }\n</style>\n<table border=\"1\" class=\"dataframe\">\n  <thead>\n    <tr style=\"text-align: right;\">\n      <th></th>\n      <th>recettes_moyennes</th>\n      <th>recettes_diff</th>\n    </tr>\n    <tr>\n      <th>scenario</th>\n      <th></th>\n      <th></th>\n    </tr>\n  </thead>\n  <tbody>\n    <tr>\n      <th>actuel</th>\n      <td>8417.161523</td>\n      <td>0.000000</td>\n    </tr>\n    <tr>\n      <th>assiette1-bareme1</th>\n      <td>15396.690339</td>\n      <td>6979.528816</td>\n    </tr>\n    <tr>\n      <th>assiette2-bareme2</th>\n      <td>22521.564814</td>\n      <td>14104.403290</td>\n    </tr>\n    <tr>\n      <th>assiette1-bareme3</th>\n      <td>8451.240735</td>\n      <td>34.079211</td>\n    </tr>\n    <tr>\n      <th>assiette2-bareme4</th>\n      <td>17693.026402</td>\n      <td>9275.864879</td>\n    </tr>\n  </tbody>\n</table>\n</div>"
     },
     "execution_count": 74,
     "metadata": {},
     "output_type": "execute_result"
    }
   ],
   "source": [
    "df[\"heritage_brut\"] = df.volumes * 100 / (100 - df.actuel)\n",
    "\n",
    "recettes = dict()\n",
    "for scenar in SCENARIOS :\n",
    "    total = (df.heritage_brut *  df[scenar] / 100).sum()\n",
    "    recettes[scenar] = total\n",
    "    \n",
    "recettes = pd.DataFrame(\n",
    "    recettes.items(), columns=[\"scenario\", \"recettes_moyennes\"]).set_index(\"scenario\")\n",
    "\n",
    "# Différence de recette par rapport au scenario actuel\n",
    "recettes[\"recettes_diff\"] = recettes.recettes_moyennes - recettes.recettes_moyennes[0]\n",
    "recettes"
   ],
   "metadata": {
    "collapsed": false,
    "ExecuteTime": {
     "end_time": "2023-07-29T16:02:20.926236404Z",
     "start_time": "2023-07-29T16:02:20.879147753Z"
    }
   }
  },
  {
   "cell_type": "markdown",
   "source": [
    "### Quelle base ?\n",
    "\n",
    "A nouveau se pose la question de la base.\n",
    "Si on reprend la base précedente empirique 1.5 millions, on obtient :"
   ],
   "metadata": {
    "collapsed": false
   }
  },
  {
   "cell_type": "code",
   "execution_count": 75,
   "outputs": [
    {
     "data": {
      "text/plain": "                   recettes_moyennes  recettes_diff\nscenario                                           \nactuel                  1.325523e+10   0.000000e+00\nassiette1-bareme1       2.424649e+10   1.099126e+10\nassiette2-bareme2       3.546664e+10   2.221141e+10\nassiette1-bareme3       1.330889e+10   5.366745e+07\nassiette2-bareme4       2.786272e+10   1.460750e+10",
      "text/html": "<div>\n<style scoped>\n    .dataframe tbody tr th:only-of-type {\n        vertical-align: middle;\n    }\n\n    .dataframe tbody tr th {\n        vertical-align: top;\n    }\n\n    .dataframe thead th {\n        text-align: right;\n    }\n</style>\n<table border=\"1\" class=\"dataframe\">\n  <thead>\n    <tr style=\"text-align: right;\">\n      <th></th>\n      <th>recettes_moyennes</th>\n      <th>recettes_diff</th>\n    </tr>\n    <tr>\n      <th>scenario</th>\n      <th></th>\n      <th></th>\n    </tr>\n  </thead>\n  <tbody>\n    <tr>\n      <th>actuel</th>\n      <td>1.325523e+10</td>\n      <td>0.000000e+00</td>\n    </tr>\n    <tr>\n      <th>assiette1-bareme1</th>\n      <td>2.424649e+10</td>\n      <td>1.099126e+10</td>\n    </tr>\n    <tr>\n      <th>assiette2-bareme2</th>\n      <td>3.546664e+10</td>\n      <td>2.221141e+10</td>\n    </tr>\n    <tr>\n      <th>assiette1-bareme3</th>\n      <td>1.330889e+10</td>\n      <td>5.366745e+07</td>\n    </tr>\n    <tr>\n      <th>assiette2-bareme4</th>\n      <td>2.786272e+10</td>\n      <td>1.460750e+10</td>\n    </tr>\n  </tbody>\n</table>\n</div>"
     },
     "execution_count": 75,
     "metadata": {},
     "output_type": "execute_result"
    }
   ],
   "source": [
    "# Recettes moyennes avec une  base 1.5 millions \n",
    "pd.merge(\n",
    "    recettes.recettes_moyennes * base,\n",
    "    recettes.recettes_diff * base, left_index=True, right_index=True)"
   ],
   "metadata": {
    "collapsed": false,
    "ExecuteTime": {
     "end_time": "2023-07-29T16:02:27.490153668Z",
     "start_time": "2023-07-29T16:02:27.462828327Z"
    }
   }
  },
  {
   "cell_type": "markdown",
   "source": [
    "On retombe sur des recettes fiscales de **13 Mds €** :du même ordre de grandeur que **15 Mds €** (2022)\n",
    "Par contre les recette supplémentaires sont un peu au delà de celles notées dans le [graphique 28 du focus](./doc/cae-focus077-2021.pdf) (page 31). Respectivement de 9, 19, 0 et 12 Mds€."
   ],
   "metadata": {
    "collapsed": false
   }
  },
  {
   "cell_type": "code",
   "execution_count": null,
   "metadata": {},
   "outputs": [],
   "source": []
  }
 ],
 "metadata": {
  "kernelspec": {
   "display_name": "Python 3 (ipykernel)",
   "language": "python",
   "name": "python3"
  },
  "language_info": {
   "codemirror_mode": {
    "name": "ipython",
    "version": 3
   },
   "file_extension": ".py",
   "mimetype": "text/x-python",
   "name": "python",
   "nbconvert_exporter": "python",
   "pygments_lexer": "ipython3",
   "version": "3.10.6"
  }
 },
 "nbformat": 4,
 "nbformat_minor": 1
}
