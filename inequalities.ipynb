{
 "cells": [
  {
   "cell_type": "code",
   "execution_count": 1,
   "metadata": {
    "ExecuteTime": {
     "end_time": "2023-07-29T10:03:35.786847505Z",
     "start_time": "2023-07-29T10:03:31.495458390Z"
    }
   },
   "outputs": [],
   "source": [
    "from IPython import display\n",
    "from ipyevents import Event\n",
    "from rich.jupyter import display\n",
    "%matplotlib widget\n",
    "from ipywidgets import IntSlider, Output, HTML\n",
    "import ipywidgets as widgets\n",
    "from ipywidgets import Image\n",
    "from IPython.display import display\n",
    "from ipyevents import Event\n",
    "\n",
    "import pandas as pd\n",
    "from scipy.stats import lognorm, rv_continuous, pareto\n",
    "import numpy as np\n",
    "import matplotlib.pyplot as plt\n",
    "import plotly.graph_objects as go\n",
    "import math"
   ]
  },
  {
   "cell_type": "markdown",
   "metadata": {},
   "source": [
    "# Read data\n",
    "\n",
    "## Heritage"
   ]
  },
  {
   "cell_type": "code",
   "execution_count": 5,
   "metadata": {
    "ExecuteTime": {
     "end_time": "2023-07-29T10:05:26.802829414Z",
     "start_time": "2023-07-29T10:05:26.736942491Z"
    }
   },
   "outputs": [
    {
     "data": {
      "text/plain": "       heritage\nquant          \n0.100         0\n0.200     15000\n0.300     47000\n0.400     65000\n0.500     65000\n0.600     65000\n0.700     84000\n0.800    164000\n0.900    288000\n0.950    510638\n0.990   1100000\n0.995   2500000\n0.999   4042553\n1.000  13000000",
      "text/html": "<div>\n<style scoped>\n    .dataframe tbody tr th:only-of-type {\n        vertical-align: middle;\n    }\n\n    .dataframe tbody tr th {\n        vertical-align: top;\n    }\n\n    .dataframe thead th {\n        text-align: right;\n    }\n</style>\n<table border=\"1\" class=\"dataframe\">\n  <thead>\n    <tr style=\"text-align: right;\">\n      <th></th>\n      <th>heritage</th>\n    </tr>\n    <tr>\n      <th>quant</th>\n      <th></th>\n    </tr>\n  </thead>\n  <tbody>\n    <tr>\n      <th>0.100</th>\n      <td>0</td>\n    </tr>\n    <tr>\n      <th>0.200</th>\n      <td>15000</td>\n    </tr>\n    <tr>\n      <th>0.300</th>\n      <td>47000</td>\n    </tr>\n    <tr>\n      <th>0.400</th>\n      <td>65000</td>\n    </tr>\n    <tr>\n      <th>0.500</th>\n      <td>65000</td>\n    </tr>\n    <tr>\n      <th>0.600</th>\n      <td>65000</td>\n    </tr>\n    <tr>\n      <th>0.700</th>\n      <td>84000</td>\n    </tr>\n    <tr>\n      <th>0.800</th>\n      <td>164000</td>\n    </tr>\n    <tr>\n      <th>0.900</th>\n      <td>288000</td>\n    </tr>\n    <tr>\n      <th>0.950</th>\n      <td>510638</td>\n    </tr>\n    <tr>\n      <th>0.990</th>\n      <td>1100000</td>\n    </tr>\n    <tr>\n      <th>0.995</th>\n      <td>2500000</td>\n    </tr>\n    <tr>\n      <th>0.999</th>\n      <td>4042553</td>\n    </tr>\n    <tr>\n      <th>1.000</th>\n      <td>13000000</td>\n    </tr>\n  </tbody>\n</table>\n</div>"
     },
     "execution_count": 5,
     "metadata": {},
     "output_type": "execute_result"
    }
   ],
   "source": [
    "# Read inheritance data\n",
    "df_herit = pd.read_csv(\"data/heritage-cae.csv\", comment=\"#\")\n",
    "df_herit = df_herit.rename(columns={key: key.split(\"[\")[0] for key in df.columns})\n",
    "df_herit.quant = df_herit.quant / 100\n",
    "df_herit = df_herit.set_index(\"quant\")\n",
    "df_herit"
   ]
  },
  {
   "cell_type": "markdown",
   "source": [
    "# Taux imposition"
   ],
   "metadata": {
    "collapsed": false
   }
  },
  {
   "cell_type": "markdown",
   "source": [
    "# Read taux effectif\n",
    "df_taux = pd.read_csv(\"data/taux_effectifs.csv\", comment=\"#\")\n",
    "df_taux = df_taux.rename(columns={key: key.split(\"[\")[0] for key in df.columns})\n",
    "df_taux.quant = df_taux.quant / 100\n",
    "df_taux = df_taux.set_index(\"quant\")\n",
    "df_taux\n",
    "\n",
    "# Join the two\n",
    "df = df_herit.join(df_taux)\n",
    "df"
   ],
   "metadata": {
    "collapsed": false
   }
  },
  {
   "cell_type": "markdown",
   "source": [
    "# Compute \n",
    "\n",
    "## Volumes"
   ],
   "metadata": {
    "collapsed": false
   }
  },
  {
   "cell_type": "code",
   "execution_count": 18,
   "metadata": {
    "ExecuteTime": {
     "end_time": "2023-07-29T10:12:36.358152258Z",
     "start_time": "2023-07-29T10:12:36.329568425Z"
    }
   },
   "outputs": [
    {
     "name": "stdout",
     "output_type": "stream",
     "text": [
      "Average volume 190502.11199999903\n"
     ]
    },
    {
     "data": {
      "text/plain": "       heritage  actuel  assiette1-bareme1  assiette2-bareme2  \\\nquant                                                           \n0.100         0     0.0                0.0                0.0   \n0.200     15000     0.0                0.0                0.0   \n0.300     47000     0.0                0.0                0.0   \n0.400     65000     0.0                0.0                0.0   \n0.500     65000     0.0                0.0                0.0   \n0.600     65000     0.0                0.0                0.0   \n0.700     84000     0.0                1.0                1.0   \n0.800    164000     1.0                1.0                2.0   \n0.900    288000     2.0                2.0                5.0   \n0.950    510638     4.0                8.0                9.0   \n0.990   1100000     6.0               11.0               16.0   \n0.995   2500000     7.0               12.0               19.0   \n0.999   4042553     8.0               15.0               22.0   \n1.000  13000000    10.0               21.0               30.0   \n\n       assiette1-bareme3  assiette2-bareme4    volumes  \nquant                                                   \n0.100                0.0                0.0      0.000  \n0.200                0.0                0.0   1500.000  \n0.300                0.0                0.0   4700.000  \n0.400                0.0                0.0   6500.000  \n0.500                0.0                0.0   6500.000  \n0.600                0.0                0.0   6500.000  \n0.700                0.0                0.0   8400.000  \n0.800                0.0                0.0  16400.000  \n0.900                1.0                1.0  28800.000  \n0.950                2.0                3.0  25531.900  \n0.990                4.0                7.0  44000.000  \n0.995                8.0               20.0  12500.000  \n0.999               11.0               26.0  16170.212  \n1.000               19.0               42.0  13000.000  ",
      "text/html": "<div>\n<style scoped>\n    .dataframe tbody tr th:only-of-type {\n        vertical-align: middle;\n    }\n\n    .dataframe tbody tr th {\n        vertical-align: top;\n    }\n\n    .dataframe thead th {\n        text-align: right;\n    }\n</style>\n<table border=\"1\" class=\"dataframe\">\n  <thead>\n    <tr style=\"text-align: right;\">\n      <th></th>\n      <th>heritage</th>\n      <th>actuel</th>\n      <th>assiette1-bareme1</th>\n      <th>assiette2-bareme2</th>\n      <th>assiette1-bareme3</th>\n      <th>assiette2-bareme4</th>\n      <th>volumes</th>\n    </tr>\n    <tr>\n      <th>quant</th>\n      <th></th>\n      <th></th>\n      <th></th>\n      <th></th>\n      <th></th>\n      <th></th>\n      <th></th>\n    </tr>\n  </thead>\n  <tbody>\n    <tr>\n      <th>0.100</th>\n      <td>0</td>\n      <td>0.0</td>\n      <td>0.0</td>\n      <td>0.0</td>\n      <td>0.0</td>\n      <td>0.0</td>\n      <td>0.000</td>\n    </tr>\n    <tr>\n      <th>0.200</th>\n      <td>15000</td>\n      <td>0.0</td>\n      <td>0.0</td>\n      <td>0.0</td>\n      <td>0.0</td>\n      <td>0.0</td>\n      <td>1500.000</td>\n    </tr>\n    <tr>\n      <th>0.300</th>\n      <td>47000</td>\n      <td>0.0</td>\n      <td>0.0</td>\n      <td>0.0</td>\n      <td>0.0</td>\n      <td>0.0</td>\n      <td>4700.000</td>\n    </tr>\n    <tr>\n      <th>0.400</th>\n      <td>65000</td>\n      <td>0.0</td>\n      <td>0.0</td>\n      <td>0.0</td>\n      <td>0.0</td>\n      <td>0.0</td>\n      <td>6500.000</td>\n    </tr>\n    <tr>\n      <th>0.500</th>\n      <td>65000</td>\n      <td>0.0</td>\n      <td>0.0</td>\n      <td>0.0</td>\n      <td>0.0</td>\n      <td>0.0</td>\n      <td>6500.000</td>\n    </tr>\n    <tr>\n      <th>0.600</th>\n      <td>65000</td>\n      <td>0.0</td>\n      <td>0.0</td>\n      <td>0.0</td>\n      <td>0.0</td>\n      <td>0.0</td>\n      <td>6500.000</td>\n    </tr>\n    <tr>\n      <th>0.700</th>\n      <td>84000</td>\n      <td>0.0</td>\n      <td>1.0</td>\n      <td>1.0</td>\n      <td>0.0</td>\n      <td>0.0</td>\n      <td>8400.000</td>\n    </tr>\n    <tr>\n      <th>0.800</th>\n      <td>164000</td>\n      <td>1.0</td>\n      <td>1.0</td>\n      <td>2.0</td>\n      <td>0.0</td>\n      <td>0.0</td>\n      <td>16400.000</td>\n    </tr>\n    <tr>\n      <th>0.900</th>\n      <td>288000</td>\n      <td>2.0</td>\n      <td>2.0</td>\n      <td>5.0</td>\n      <td>1.0</td>\n      <td>1.0</td>\n      <td>28800.000</td>\n    </tr>\n    <tr>\n      <th>0.950</th>\n      <td>510638</td>\n      <td>4.0</td>\n      <td>8.0</td>\n      <td>9.0</td>\n      <td>2.0</td>\n      <td>3.0</td>\n      <td>25531.900</td>\n    </tr>\n    <tr>\n      <th>0.990</th>\n      <td>1100000</td>\n      <td>6.0</td>\n      <td>11.0</td>\n      <td>16.0</td>\n      <td>4.0</td>\n      <td>7.0</td>\n      <td>44000.000</td>\n    </tr>\n    <tr>\n      <th>0.995</th>\n      <td>2500000</td>\n      <td>7.0</td>\n      <td>12.0</td>\n      <td>19.0</td>\n      <td>8.0</td>\n      <td>20.0</td>\n      <td>12500.000</td>\n    </tr>\n    <tr>\n      <th>0.999</th>\n      <td>4042553</td>\n      <td>8.0</td>\n      <td>15.0</td>\n      <td>22.0</td>\n      <td>11.0</td>\n      <td>26.0</td>\n      <td>16170.212</td>\n    </tr>\n    <tr>\n      <th>1.000</th>\n      <td>13000000</td>\n      <td>10.0</td>\n      <td>21.0</td>\n      <td>30.0</td>\n      <td>19.0</td>\n      <td>42.0</td>\n      <td>13000.000</td>\n    </tr>\n  </tbody>\n</table>\n</div>"
     },
     "execution_count": 18,
     "metadata": {},
     "output_type": "execute_result"
    }
   ],
   "source": [
    "# Compute volumes for each quantile\n",
    "quantiles = np.insert(df.index.values, 0, [0])\n",
    "volumes = df.heritage.values * (quantiles[1:] - quantiles[0:-1])\n",
    "\n",
    "df[\"volumes\"] = volumes\n",
    "\n",
    "print(\"Average volume\", df.volumes.sum())\n",
    "\n",
    "df\n",
    "#print(\"%g\" % (volume.sum() * nb_menages))"
   ]
  },
  {
   "cell_type": "markdown",
   "metadata": {},
   "source": [
    "# Approximate with parametrized distributions"
   ]
  },
  {
   "cell_type": "code",
   "execution_count": 4,
   "metadata": {
    "ExecuteTime": {
     "end_time": "2023-07-08T09:27:44.095528579Z",
     "start_time": "2023-07-08T09:27:44.068167174Z"
    }
   },
   "outputs": [
    {
     "data": {
      "text/plain": [
       "array([ 68604.72511995, 244195.88387625,    712.38506355, ...,\n",
       "       113081.52129868, 459871.69594682,  82040.04885265])"
      ]
     },
     "execution_count": 4,
     "metadata": {},
     "output_type": "execute_result"
    }
   ],
   "source": [
    "# Generate random sample of this CDF\n",
    "rnd = np.random.random(100000) * 0.95\n",
    "samples = np.interp(rnd, df.quantiles, df.wealth)\n",
    "samples"
   ]
  },
  {
   "cell_type": "code",
   "execution_count": 5,
   "metadata": {
    "ExecuteTime": {
     "end_time": "2023-07-08T09:27:44.206637526Z",
     "start_time": "2023-07-08T09:27:44.088265664Z"
    }
   },
   "outputs": [],
   "source": [
    "# Fit the parametric distribution\n",
    "distrib_f = pareto\n",
    "distrib_args = distrib_f.fit(samples)"
   ]
  },
  {
   "cell_type": "code",
   "execution_count": 6,
   "metadata": {
    "ExecuteTime": {
     "end_time": "2023-07-08T09:27:55.399917592Z",
     "start_time": "2023-07-08T09:27:55.396241337Z"
    }
   },
   "outputs": [
    {
     "name": "stdout",
     "output_type": "stream",
     "text": [
      "{'arg1': IntSlider(value=6, max=12, min=3), 'arg2': IntSlider(value=-1224618, max=-612309, min=-2449237), 'arg3': IntSlider(value=1224619, max=2449238, min=612309)}\n"
     ]
    },
    {
     "data": {
      "application/vnd.jupyter.widget-view+json": {
       "model_id": "64c1b9deef8d41189100fb27785f5248",
       "version_major": 2,
       "version_minor": 0
      },
      "text/plain": [
       "interactive(children=(IntSlider(value=6, description='arg1', max=12, min=3), IntSlider(value=-1224618, descrip…"
      ]
     },
     "metadata": {},
     "output_type": "display_data"
    },
    {
     "data": {
      "text/plain": [
       "<function __main__.plot_distrib(arg1, arg2, arg3)>"
      ]
     },
     "execution_count": 6,
     "metadata": {},
     "output_type": "execute_result"
    },
    {
     "data": {
      "application/vnd.jupyter.widget-view+json": {
       "model_id": "e9933ad3d05d4f9f9569b318a1eae25c",
       "version_major": 2,
       "version_minor": 0
      },
      "image/png": "[encoded data removed]",
      "text/html": [
       "\n",
       "            <div style=\"display: inline-block;\">\n",
       "                <div class=\"jupyter-widgets widget-label\" style=\"text-align: center;\">\n",
       "                    Figure\n",
       "                </div>\n",
       "                <img src='data:image/png;base64,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' width=600.0/>\n",
       "            </div>\n",
       "        "
      ],
      "text/plain": [
       "Canvas(toolbar=Toolbar(toolitems=[('Home', 'Reset original view', 'home', 'home'), ('Back', 'Back to previous …"
      ]
     },
     "metadata": {},
     "output_type": "display_data"
    }
   ],
   "source": [
    "fig, ax = plt.subplots(figsize=(6, 4))\n",
    "\n",
    "def plot_distrib(arg1, arg2, arg3) :\n",
    "    distrib = distrib_f(arg1, arg2, arg3)\n",
    "\n",
    "    # Generate samples for this distrib\n",
    "    x = np.arange(0, 1, 0.01)\n",
    "    y = distrib.ppf(x)\n",
    "    \n",
    "    ax.clear()\n",
    "    ax.plot(x, y)\n",
    "    ax.plot(df.quantiles, df.wealth)\n",
    "    \n",
    "interact_args = {\n",
    "    \"arg%d\" % (i+1): IntSlider(\n",
    "        min=arg/2 if arg > 0 else arg*2,\n",
    "        max=arg*2 if arg > 0 else arg/2,\n",
    "        value=arg) for i, arg in enumerate(distrib_args)}\n",
    "\n",
    "print(interact_args)\n",
    "\n",
    "widgets.interact(\n",
    "    plot_distrib,\n",
    "    **interact_args)"
   ]
  },
  {
   "cell_type": "markdown",
   "metadata": {},
   "source": [
    "# Inégalités plot"
   ]
  },
  {
   "cell_type": "code",
   "execution_count": 33,
   "metadata": {
    "ExecuteTime": {
     "end_time": "2023-07-09T16:33:36.014982079Z",
     "start_time": "2023-07-09T16:33:35.947443552Z"
    }
   },
   "outputs": [
    {
     "data": {
      "text/html": [
       "<div>\n",
       "<style scoped>\n",
       "    .dataframe tbody tr th:only-of-type {\n",
       "        vertical-align: middle;\n",
       "    }\n",
       "\n",
       "    .dataframe tbody tr th {\n",
       "        vertical-align: top;\n",
       "    }\n",
       "\n",
       "    .dataframe thead th {\n",
       "        text-align: right;\n",
       "    }\n",
       "</style>\n",
       "<table border=\"1\" class=\"dataframe\">\n",
       "  <thead>\n",
       "    <tr style=\"text-align: right;\">\n",
       "      <th></th>\n",
       "      <th>heritage</th>\n",
       "      <th>part</th>\n",
       "    </tr>\n",
       "  </thead>\n",
       "  <tbody>\n",
       "    <tr>\n",
       "      <th>0</th>\n",
       "      <td>8000</td>\n",
       "      <td>38.7</td>\n",
       "    </tr>\n",
       "    <tr>\n",
       "      <th>1</th>\n",
       "      <td>30000</td>\n",
       "      <td>27.1</td>\n",
       "    </tr>\n",
       "    <tr>\n",
       "      <th>2</th>\n",
       "      <td>100000</td>\n",
       "      <td>21.2</td>\n",
       "    </tr>\n",
       "    <tr>\n",
       "      <th>3</th>\n",
       "      <td>200000</td>\n",
       "      <td>13.0</td>\n",
       "    </tr>\n",
       "  </tbody>\n",
       "</table>\n",
       "</div>"
      ],
      "text/plain": [
       "   heritage  part\n",
       "0      8000  38.7\n",
       "1     30000  27.1\n",
       "2    100000  21.2\n",
       "3    200000  13.0"
      ]
     },
     "execution_count": 33,
     "metadata": {},
     "output_type": "execute_result"
    }
   ],
   "source": [
    "ineg=pd.read_csv(\"data/inegalites.csv\")\n",
    "ineg"
   ]
  },
  {
   "cell_type": "code",
   "execution_count": 34,
   "metadata": {
    "ExecuteTime": {
     "end_time": "2023-07-09T16:34:32.541609992Z",
     "start_time": "2023-07-09T16:34:32.495648858Z"
    }
   },
   "outputs": [
    {
     "data": {
      "application/vnd.plotly.v1+json": {
       "config": {
        "plotlyServerURL": "https://plot.ly"
       },
       "data": [
        {
         "type": "bar",
         "x": [
          38.7,
          27.1,
          21.2,
          13
         ],
         "y": [
          8000,
          30000,
          100000,
          200000
         ]
        }
       ],
       "layout": {
        "template": {
         "data": {
          "bar": [
           {
            "error_x": {
             "color": "#2a3f5f"
            },
            "error_y": {
             "color": "#2a3f5f"
            },
            "marker": {
             "line": {
              "color": "#E5ECF6",
              "width": 0.5
             },
             "pattern": {
              "fillmode": "overlay",
              "size": 10,
              "solidity": 0.2
             }
            },
            "type": "bar"
           }
          ],
          "barpolar": [
           {
            "marker": {
             "line": {
              "color": "#E5ECF6",
              "width": 0.5
             },
             "pattern": {
              "fillmode": "overlay",
              "size": 10,
              "solidity": 0.2
             }
            },
            "type": "barpolar"
           }
          ],
          "carpet": [
           {
            "aaxis": {
             "endlinecolor": "#2a3f5f",
             "gridcolor": "white",
             "linecolor": "white",
             "minorgridcolor": "white",
             "startlinecolor": "#2a3f5f"
            },
            "baxis": {
             "endlinecolor": "#2a3f5f",
             "gridcolor": "white",
             "linecolor": "white",
             "minorgridcolor": "white",
             "startlinecolor": "#2a3f5f"
            },
            "type": "carpet"
           }
          ],
          "choropleth": [
           {
            "colorbar": {
             "outlinewidth": 0,
             "ticks": ""
            },
            "type": "choropleth"
           }
          ],
          "contour": [
           {
            "colorbar": {
             "outlinewidth": 0,
             "ticks": ""
            },
            "colorscale": [
             [
              0,
              "#0d0887"
             ],
             [
              0.1111111111111111,
              "#46039f"
             ],
             [
              0.2222222222222222,
              "#7201a8"
             ],
             [
              0.3333333333333333,
              "#9c179e"
             ],
             [
              0.4444444444444444,
              "#bd3786"
             ],
             [
              0.5555555555555556,
              "#d8576b"
             ],
             [
              0.6666666666666666,
              "#ed7953"
             ],
             [
              0.7777777777777778,
              "#fb9f3a"
             ],
             [
              0.8888888888888888,
              "#fdca26"
             ],
             [
              1,
              "#f0f921"
             ]
            ],
            "type": "contour"
           }
          ],
          "contourcarpet": [
           {
            "colorbar": {
             "outlinewidth": 0,
             "ticks": ""
            },
            "type": "contourcarpet"
           }
          ],
          "heatmap": [
           {
            "colorbar": {
             "outlinewidth": 0,
             "ticks": ""
            },
            "colorscale": [
             [
              0,
              "#0d0887"
             ],
             [
              0.1111111111111111,
              "#46039f"
             ],
             [
              0.2222222222222222,
              "#7201a8"
             ],
             [
              0.3333333333333333,
              "#9c179e"
             ],
             [
              0.4444444444444444,
              "#bd3786"
             ],
             [
              0.5555555555555556,
              "#d8576b"
             ],
             [
              0.6666666666666666,
              "#ed7953"
             ],
             [
              0.7777777777777778,
              "#fb9f3a"
             ],
             [
              0.8888888888888888,
              "#fdca26"
             ],
             [
              1,
              "#f0f921"
             ]
            ],
            "type": "heatmap"
           }
          ],
          "heatmapgl": [
           {
            "colorbar": {
             "outlinewidth": 0,
             "ticks": ""
            },
            "colorscale": [
             [
              0,
              "#0d0887"
             ],
             [
              0.1111111111111111,
              "#46039f"
             ],
             [
              0.2222222222222222,
              "#7201a8"
             ],
             [
              0.3333333333333333,
              "#9c179e"
             ],
             [
              0.4444444444444444,
              "#bd3786"
             ],
             [
              0.5555555555555556,
              "#d8576b"
             ],
             [
              0.6666666666666666,
              "#ed7953"
             ],
             [
              0.7777777777777778,
              "#fb9f3a"
             ],
             [
              0.8888888888888888,
              "#fdca26"
             ],
             [
              1,
              "#f0f921"
             ]
            ],
            "type": "heatmapgl"
           }
          ],
          "histogram": [
           {
            "marker": {
             "pattern": {
              "fillmode": "overlay",
              "size": 10,
              "solidity": 0.2
             }
            },
            "type": "histogram"
           }
          ],
          "histogram2d": [
           {
            "colorbar": {
             "outlinewidth": 0,
             "ticks": ""
            },
            "colorscale": [
             [
              0,
              "#0d0887"
             ],
             [
              0.1111111111111111,
              "#46039f"
             ],
             [
              0.2222222222222222,
              "#7201a8"
             ],
             [
              0.3333333333333333,
              "#9c179e"
             ],
             [
              0.4444444444444444,
              "#bd3786"
             ],
             [
              0.5555555555555556,
              "#d8576b"
             ],
             [
              0.6666666666666666,
              "#ed7953"
             ],
             [
              0.7777777777777778,
              "#fb9f3a"
             ],
             [
              0.8888888888888888,
              "#fdca26"
             ],
             [
              1,
              "#f0f921"
             ]
            ],
            "type": "histogram2d"
           }
          ],
          "histogram2dcontour": [
           {
            "colorbar": {
             "outlinewidth": 0,
             "ticks": ""
            },
            "colorscale": [
             [
              0,
              "#0d0887"
             ],
             [
              0.1111111111111111,
              "#46039f"
             ],
             [
              0.2222222222222222,
              "#7201a8"
             ],
             [
              0.3333333333333333,
              "#9c179e"
             ],
             [
              0.4444444444444444,
              "#bd3786"
             ],
             [
              0.5555555555555556,
              "#d8576b"
             ],
             [
              0.6666666666666666,
              "#ed7953"
             ],
             [
              0.7777777777777778,
              "#fb9f3a"
             ],
             [
              0.8888888888888888,
              "#fdca26"
             ],
             [
              1,
              "#f0f921"
             ]
            ],
            "type": "histogram2dcontour"
           }
          ],
          "mesh3d": [
           {
            "colorbar": {
             "outlinewidth": 0,
             "ticks": ""
            },
            "type": "mesh3d"
           }
          ],
          "parcoords": [
           {
            "line": {
             "colorbar": {
              "outlinewidth": 0,
              "ticks": ""
             }
            },
            "type": "parcoords"
           }
          ],
          "pie": [
           {
            "automargin": true,
            "type": "pie"
           }
          ],
          "scatter": [
           {
            "fillpattern": {
             "fillmode": "overlay",
             "size": 10,
             "solidity": 0.2
            },
            "type": "scatter"
           }
          ],
          "scatter3d": [
           {
            "line": {
             "colorbar": {
              "outlinewidth": 0,
              "ticks": ""
             }
            },
            "marker": {
             "colorbar": {
              "outlinewidth": 0,
              "ticks": ""
             }
            },
            "type": "scatter3d"
           }
          ],
          "scattercarpet": [
           {
            "marker": {
             "colorbar": {
              "outlinewidth": 0,
              "ticks": ""
             }
            },
            "type": "scattercarpet"
           }
          ],
          "scattergeo": [
           {
            "marker": {
             "colorbar": {
              "outlinewidth": 0,
              "ticks": ""
             }
            },
            "type": "scattergeo"
           }
          ],
          "scattergl": [
           {
            "marker": {
             "colorbar": {
              "outlinewidth": 0,
              "ticks": ""
             }
            },
            "type": "scattergl"
           }
          ],
          "scattermapbox": [
           {
            "marker": {
             "colorbar": {
              "outlinewidth": 0,
              "ticks": ""
             }
            },
            "type": "scattermapbox"
           }
          ],
          "scatterpolar": [
           {
            "marker": {
             "colorbar": {
              "outlinewidth": 0,
              "ticks": ""
             }
            },
            "type": "scatterpolar"
           }
          ],
          "scatterpolargl": [
           {
            "marker": {
             "colorbar": {
              "outlinewidth": 0,
              "ticks": ""
             }
            },
            "type": "scatterpolargl"
           }
          ],
          "scatterternary": [
           {
            "marker": {
             "colorbar": {
              "outlinewidth": 0,
              "ticks": ""
             }
            },
            "type": "scatterternary"
           }
          ],
          "surface": [
           {
            "colorbar": {
             "outlinewidth": 0,
             "ticks": ""
            },
            "colorscale": [
             [
              0,
              "#0d0887"
             ],
             [
              0.1111111111111111,
              "#46039f"
             ],
             [
              0.2222222222222222,
              "#7201a8"
             ],
             [
              0.3333333333333333,
              "#9c179e"
             ],
             [
              0.4444444444444444,
              "#bd3786"
             ],
             [
              0.5555555555555556,
              "#d8576b"
             ],
             [
              0.6666666666666666,
              "#ed7953"
             ],
             [
              0.7777777777777778,
              "#fb9f3a"
             ],
             [
              0.8888888888888888,
              "#fdca26"
             ],
             [
              1,
              "#f0f921"
             ]
            ],
            "type": "surface"
           }
          ],
          "table": [
           {
            "cells": {
             "fill": {
              "color": "#EBF0F8"
             },
             "line": {
              "color": "white"
             }
            },
            "header": {
             "fill": {
              "color": "#C8D4E3"
             },
             "line": {
              "color": "white"
             }
            },
            "type": "table"
           }
          ]
         },
         "layout": {
          "annotationdefaults": {
           "arrowcolor": "#2a3f5f",
           "arrowhead": 0,
           "arrowwidth": 1
          },
          "autotypenumbers": "strict",
          "coloraxis": {
           "colorbar": {
            "outlinewidth": 0,
            "ticks": ""
           }
          },
          "colorscale": {
           "diverging": [
            [
             0,
             "#8e0152"
            ],
            [
             0.1,
             "#c51b7d"
            ],
            [
             0.2,
             "#de77ae"
            ],
            [
             0.3,
             "#f1b6da"
            ],
            [
             0.4,
             "#fde0ef"
            ],
            [
             0.5,
             "#f7f7f7"
            ],
            [
             0.6,
             "#e6f5d0"
            ],
            [
             0.7,
             "#b8e186"
            ],
            [
             0.8,
             "#7fbc41"
            ],
            [
             0.9,
             "#4d9221"
            ],
            [
             1,
             "#276419"
            ]
           ],
           "sequential": [
            [
             0,
             "#0d0887"
            ],
            [
             0.1111111111111111,
             "#46039f"
            ],
            [
             0.2222222222222222,
             "#7201a8"
            ],
            [
             0.3333333333333333,
             "#9c179e"
            ],
            [
             0.4444444444444444,
             "#bd3786"
            ],
            [
             0.5555555555555556,
             "#d8576b"
            ],
            [
             0.6666666666666666,
             "#ed7953"
            ],
            [
             0.7777777777777778,
             "#fb9f3a"
            ],
            [
             0.8888888888888888,
             "#fdca26"
            ],
            [
             1,
             "#f0f921"
            ]
           ],
           "sequentialminus": [
            [
             0,
             "#0d0887"
            ],
            [
             0.1111111111111111,
             "#46039f"
            ],
            [
             0.2222222222222222,
             "#7201a8"
            ],
            [
             0.3333333333333333,
             "#9c179e"
            ],
            [
             0.4444444444444444,
             "#bd3786"
            ],
            [
             0.5555555555555556,
             "#d8576b"
            ],
            [
             0.6666666666666666,
             "#ed7953"
            ],
            [
             0.7777777777777778,
             "#fb9f3a"
            ],
            [
             0.8888888888888888,
             "#fdca26"
            ],
            [
             1,
             "#f0f921"
            ]
           ]
          },
          "colorway": [
           "#636efa",
           "#EF553B",
           "#00cc96",
           "#ab63fa",
           "#FFA15A",
           "#19d3f3",
           "#FF6692",
           "#B6E880",
           "#FF97FF",
           "#FECB52"
          ],
          "font": {
           "color": "#2a3f5f"
          },
          "geo": {
           "bgcolor": "white",
           "lakecolor": "white",
           "landcolor": "#E5ECF6",
           "showlakes": true,
           "showland": true,
           "subunitcolor": "white"
          },
          "hoverlabel": {
           "align": "left"
          },
          "hovermode": "closest",
          "mapbox": {
           "style": "light"
          },
          "paper_bgcolor": "white",
          "plot_bgcolor": "#E5ECF6",
          "polar": {
           "angularaxis": {
            "gridcolor": "white",
            "linecolor": "white",
            "ticks": ""
           },
           "bgcolor": "#E5ECF6",
           "radialaxis": {
            "gridcolor": "white",
            "linecolor": "white",
            "ticks": ""
           }
          },
          "scene": {
           "xaxis": {
            "backgroundcolor": "#E5ECF6",
            "gridcolor": "white",
            "gridwidth": 2,
            "linecolor": "white",
            "showbackground": true,
            "ticks": "",
            "zerolinecolor": "white"
           },
           "yaxis": {
            "backgroundcolor": "#E5ECF6",
            "gridcolor": "white",
            "gridwidth": 2,
            "linecolor": "white",
            "showbackground": true,
            "ticks": "",
            "zerolinecolor": "white"
           },
           "zaxis": {
            "backgroundcolor": "#E5ECF6",
            "gridcolor": "white",
            "gridwidth": 2,
            "linecolor": "white",
            "showbackground": true,
            "ticks": "",
            "zerolinecolor": "white"
           }
          },
          "shapedefaults": {
           "line": {
            "color": "#2a3f5f"
           }
          },
          "ternary": {
           "aaxis": {
            "gridcolor": "white",
            "linecolor": "white",
            "ticks": ""
           },
           "baxis": {
            "gridcolor": "white",
            "linecolor": "white",
            "ticks": ""
           },
           "bgcolor": "#E5ECF6",
           "caxis": {
            "gridcolor": "white",
            "linecolor": "white",
            "ticks": ""
           }
          },
          "title": {
           "x": 0.05
          },
          "xaxis": {
           "automargin": true,
           "gridcolor": "white",
           "linecolor": "white",
           "ticks": "",
           "title": {
            "standoff": 15
           },
           "zerolinecolor": "white",
           "zerolinewidth": 2
          },
          "yaxis": {
           "automargin": true,
           "gridcolor": "white",
           "linecolor": "white",
           "ticks": "",
           "title": {
            "standoff": 15
           },
           "zerolinecolor": "white",
           "zerolinewidth": 2
          }
         }
        },
        "xaxis": {
         "title": {
          "text": "Part de la population (%)"
         }
        },
        "yaxis": {
         "title": {
          "text": "Héritage (€)"
         }
        }
       }
      },
      "text/html": [
       "<div>                            <div id=\"505fa822-31d5-4db1-acbe-43e3dcd43b33\" class=\"plotly-graph-div\" style=\"height:525px; width:100%;\"></div>            <script type=\"text/javascript\">                require([\"plotly\"], function(Plotly) {                    window.PLOTLYENV=window.PLOTLYENV || {};                                    if (document.getElementById(\"505fa822-31d5-4db1-acbe-43e3dcd43b33\")) {                    Plotly.newPlot(                        \"505fa822-31d5-4db1-acbe-43e3dcd43b33\",                        [{\"x\":[38.7,27.1,21.2,13.0],\"y\":[8000,30000,100000,200000],\"type\":\"bar\"}],                        {\"template\":{\"data\":{\"histogram2dcontour\":[{\"type\":\"histogram2dcontour\",\"colorbar\":{\"outlinewidth\":0,\"ticks\":\"\"},\"colorscale\":[[0.0,\"#0d0887\"],[0.1111111111111111,\"#46039f\"],[0.2222222222222222,\"#7201a8\"],[0.3333333333333333,\"#9c179e\"],[0.4444444444444444,\"#bd3786\"],[0.5555555555555556,\"#d8576b\"],[0.6666666666666666,\"#ed7953\"],[0.7777777777777778,\"#fb9f3a\"],[0.8888888888888888,\"#fdca26\"],[1.0,\"#f0f921\"]]}],\"choropleth\":[{\"type\":\"choropleth\",\"colorbar\":{\"outlinewidth\":0,\"ticks\":\"\"}}],\"histogram2d\":[{\"type\":\"histogram2d\",\"colorbar\":{\"outlinewidth\":0,\"ticks\":\"\"},\"colorscale\":[[0.0,\"#0d0887\"],[0.1111111111111111,\"#46039f\"],[0.2222222222222222,\"#7201a8\"],[0.3333333333333333,\"#9c179e\"],[0.4444444444444444,\"#bd3786\"],[0.5555555555555556,\"#d8576b\"],[0.6666666666666666,\"#ed7953\"],[0.7777777777777778,\"#fb9f3a\"],[0.8888888888888888,\"#fdca26\"],[1.0,\"#f0f921\"]]}],\"heatmap\":[{\"type\":\"heatmap\",\"colorbar\":{\"outlinewidth\":0,\"ticks\":\"\"},\"colorscale\":[[0.0,\"#0d0887\"],[0.1111111111111111,\"#46039f\"],[0.2222222222222222,\"#7201a8\"],[0.3333333333333333,\"#9c179e\"],[0.4444444444444444,\"#bd3786\"],[0.5555555555555556,\"#d8576b\"],[0.6666666666666666,\"#ed7953\"],[0.7777777777777778,\"#fb9f3a\"],[0.8888888888888888,\"#fdca26\"],[1.0,\"#f0f921\"]]}],\"heatmapgl\":[{\"type\":\"heatmapgl\",\"colorbar\":{\"outlinewidth\":0,\"ticks\":\"\"},\"colorscale\":[[0.0,\"#0d0887\"],[0.1111111111111111,\"#46039f\"],[0.2222222222222222,\"#7201a8\"],[0.3333333333333333,\"#9c179e\"],[0.4444444444444444,\"#bd3786\"],[0.5555555555555556,\"#d8576b\"],[0.6666666666666666,\"#ed7953\"],[0.7777777777777778,\"#fb9f3a\"],[0.8888888888888888,\"#fdca26\"],[1.0,\"#f0f921\"]]}],\"contourcarpet\":[{\"type\":\"contourcarpet\",\"colorbar\":{\"outlinewidth\":0,\"ticks\":\"\"}}],\"contour\":[{\"type\":\"contour\",\"colorbar\":{\"outlinewidth\":0,\"ticks\":\"\"},\"colorscale\":[[0.0,\"#0d0887\"],[0.1111111111111111,\"#46039f\"],[0.2222222222222222,\"#7201a8\"],[0.3333333333333333,\"#9c179e\"],[0.4444444444444444,\"#bd3786\"],[0.5555555555555556,\"#d8576b\"],[0.6666666666666666,\"#ed7953\"],[0.7777777777777778,\"#fb9f3a\"],[0.8888888888888888,\"#fdca26\"],[1.0,\"#f0f921\"]]}],\"surface\":[{\"type\":\"surface\",\"colorbar\":{\"outlinewidth\":0,\"ticks\":\"\"},\"colorscale\":[[0.0,\"#0d0887\"],[0.1111111111111111,\"#46039f\"],[0.2222222222222222,\"#7201a8\"],[0.3333333333333333,\"#9c179e\"],[0.4444444444444444,\"#bd3786\"],[0.5555555555555556,\"#d8576b\"],[0.6666666666666666,\"#ed7953\"],[0.7777777777777778,\"#fb9f3a\"],[0.8888888888888888,\"#fdca26\"],[1.0,\"#f0f921\"]]}],\"mesh3d\":[{\"type\":\"mesh3d\",\"colorbar\":{\"outlinewidth\":0,\"ticks\":\"\"}}],\"scatter\":[{\"fillpattern\":{\"fillmode\":\"overlay\",\"size\":10,\"solidity\":0.2},\"type\":\"scatter\"}],\"parcoords\":[{\"type\":\"parcoords\",\"line\":{\"colorbar\":{\"outlinewidth\":0,\"ticks\":\"\"}}}],\"scatterpolargl\":[{\"type\":\"scatterpolargl\",\"marker\":{\"colorbar\":{\"outlinewidth\":0,\"ticks\":\"\"}}}],\"bar\":[{\"error_x\":{\"color\":\"#2a3f5f\"},\"error_y\":{\"color\":\"#2a3f5f\"},\"marker\":{\"line\":{\"color\":\"#E5ECF6\",\"width\":0.5},\"pattern\":{\"fillmode\":\"overlay\",\"size\":10,\"solidity\":0.2}},\"type\":\"bar\"}],\"scattergeo\":[{\"type\":\"scattergeo\",\"marker\":{\"colorbar\":{\"outlinewidth\":0,\"ticks\":\"\"}}}],\"scatterpolar\":[{\"type\":\"scatterpolar\",\"marker\":{\"colorbar\":{\"outlinewidth\":0,\"ticks\":\"\"}}}],\"histogram\":[{\"marker\":{\"pattern\":{\"fillmode\":\"overlay\",\"size\":10,\"solidity\":0.2}},\"type\":\"histogram\"}],\"scattergl\":[{\"type\":\"scattergl\",\"marker\":{\"colorbar\":{\"outlinewidth\":0,\"ticks\":\"\"}}}],\"scatter3d\":[{\"type\":\"scatter3d\",\"line\":{\"colorbar\":{\"outlinewidth\":0,\"ticks\":\"\"}},\"marker\":{\"colorbar\":{\"outlinewidth\":0,\"ticks\":\"\"}}}],\"scattermapbox\":[{\"type\":\"scattermapbox\",\"marker\":{\"colorbar\":{\"outlinewidth\":0,\"ticks\":\"\"}}}],\"scatterternary\":[{\"type\":\"scatterternary\",\"marker\":{\"colorbar\":{\"outlinewidth\":0,\"ticks\":\"\"}}}],\"scattercarpet\":[{\"type\":\"scattercarpet\",\"marker\":{\"colorbar\":{\"outlinewidth\":0,\"ticks\":\"\"}}}],\"carpet\":[{\"aaxis\":{\"endlinecolor\":\"#2a3f5f\",\"gridcolor\":\"white\",\"linecolor\":\"white\",\"minorgridcolor\":\"white\",\"startlinecolor\":\"#2a3f5f\"},\"baxis\":{\"endlinecolor\":\"#2a3f5f\",\"gridcolor\":\"white\",\"linecolor\":\"white\",\"minorgridcolor\":\"white\",\"startlinecolor\":\"#2a3f5f\"},\"type\":\"carpet\"}],\"table\":[{\"cells\":{\"fill\":{\"color\":\"#EBF0F8\"},\"line\":{\"color\":\"white\"}},\"header\":{\"fill\":{\"color\":\"#C8D4E3\"},\"line\":{\"color\":\"white\"}},\"type\":\"table\"}],\"barpolar\":[{\"marker\":{\"line\":{\"color\":\"#E5ECF6\",\"width\":0.5},\"pattern\":{\"fillmode\":\"overlay\",\"size\":10,\"solidity\":0.2}},\"type\":\"barpolar\"}],\"pie\":[{\"automargin\":true,\"type\":\"pie\"}]},\"layout\":{\"autotypenumbers\":\"strict\",\"colorway\":[\"#636efa\",\"#EF553B\",\"#00cc96\",\"#ab63fa\",\"#FFA15A\",\"#19d3f3\",\"#FF6692\",\"#B6E880\",\"#FF97FF\",\"#FECB52\"],\"font\":{\"color\":\"#2a3f5f\"},\"hovermode\":\"closest\",\"hoverlabel\":{\"align\":\"left\"},\"paper_bgcolor\":\"white\",\"plot_bgcolor\":\"#E5ECF6\",\"polar\":{\"bgcolor\":\"#E5ECF6\",\"angularaxis\":{\"gridcolor\":\"white\",\"linecolor\":\"white\",\"ticks\":\"\"},\"radialaxis\":{\"gridcolor\":\"white\",\"linecolor\":\"white\",\"ticks\":\"\"}},\"ternary\":{\"bgcolor\":\"#E5ECF6\",\"aaxis\":{\"gridcolor\":\"white\",\"linecolor\":\"white\",\"ticks\":\"\"},\"baxis\":{\"gridcolor\":\"white\",\"linecolor\":\"white\",\"ticks\":\"\"},\"caxis\":{\"gridcolor\":\"white\",\"linecolor\":\"white\",\"ticks\":\"\"}},\"coloraxis\":{\"colorbar\":{\"outlinewidth\":0,\"ticks\":\"\"}},\"colorscale\":{\"sequential\":[[0.0,\"#0d0887\"],[0.1111111111111111,\"#46039f\"],[0.2222222222222222,\"#7201a8\"],[0.3333333333333333,\"#9c179e\"],[0.4444444444444444,\"#bd3786\"],[0.5555555555555556,\"#d8576b\"],[0.6666666666666666,\"#ed7953\"],[0.7777777777777778,\"#fb9f3a\"],[0.8888888888888888,\"#fdca26\"],[1.0,\"#f0f921\"]],\"sequentialminus\":[[0.0,\"#0d0887\"],[0.1111111111111111,\"#46039f\"],[0.2222222222222222,\"#7201a8\"],[0.3333333333333333,\"#9c179e\"],[0.4444444444444444,\"#bd3786\"],[0.5555555555555556,\"#d8576b\"],[0.6666666666666666,\"#ed7953\"],[0.7777777777777778,\"#fb9f3a\"],[0.8888888888888888,\"#fdca26\"],[1.0,\"#f0f921\"]],\"diverging\":[[0,\"#8e0152\"],[0.1,\"#c51b7d\"],[0.2,\"#de77ae\"],[0.3,\"#f1b6da\"],[0.4,\"#fde0ef\"],[0.5,\"#f7f7f7\"],[0.6,\"#e6f5d0\"],[0.7,\"#b8e186\"],[0.8,\"#7fbc41\"],[0.9,\"#4d9221\"],[1,\"#276419\"]]},\"xaxis\":{\"gridcolor\":\"white\",\"linecolor\":\"white\",\"ticks\":\"\",\"title\":{\"standoff\":15},\"zerolinecolor\":\"white\",\"automargin\":true,\"zerolinewidth\":2},\"yaxis\":{\"gridcolor\":\"white\",\"linecolor\":\"white\",\"ticks\":\"\",\"title\":{\"standoff\":15},\"zerolinecolor\":\"white\",\"automargin\":true,\"zerolinewidth\":2},\"scene\":{\"xaxis\":{\"backgroundcolor\":\"#E5ECF6\",\"gridcolor\":\"white\",\"linecolor\":\"white\",\"showbackground\":true,\"ticks\":\"\",\"zerolinecolor\":\"white\",\"gridwidth\":2},\"yaxis\":{\"backgroundcolor\":\"#E5ECF6\",\"gridcolor\":\"white\",\"linecolor\":\"white\",\"showbackground\":true,\"ticks\":\"\",\"zerolinecolor\":\"white\",\"gridwidth\":2},\"zaxis\":{\"backgroundcolor\":\"#E5ECF6\",\"gridcolor\":\"white\",\"linecolor\":\"white\",\"showbackground\":true,\"ticks\":\"\",\"zerolinecolor\":\"white\",\"gridwidth\":2}},\"shapedefaults\":{\"line\":{\"color\":\"#2a3f5f\"}},\"annotationdefaults\":{\"arrowcolor\":\"#2a3f5f\",\"arrowhead\":0,\"arrowwidth\":1},\"geo\":{\"bgcolor\":\"white\",\"landcolor\":\"#E5ECF6\",\"subunitcolor\":\"white\",\"showland\":true,\"showlakes\":true,\"lakecolor\":\"white\"},\"title\":{\"x\":0.05},\"mapbox\":{\"style\":\"light\"}}},\"xaxis\":{\"title\":{\"text\":\"Part de la population (%)\"}},\"yaxis\":{\"title\":{\"text\":\"H\\u00e9ritage (\\u20ac)\"}}},                        {\"responsive\": true}                    ).then(function(){\n",
       "                            \n",
       "var gd = document.getElementById('505fa822-31d5-4db1-acbe-43e3dcd43b33');\n",
       "var x = new MutationObserver(function (mutations, observer) {{\n",
       "        var display = window.getComputedStyle(gd).display;\n",
       "        if (!display || display === 'none') {{\n",
       "            console.log([gd, 'removed!']);\n",
       "            Plotly.purge(gd);\n",
       "            observer.disconnect();\n",
       "        }}\n",
       "}});\n",
       "\n",
       "// Listen for the removal of the full notebook cells\n",
       "var notebookContainer = gd.closest('#notebook-container');\n",
       "if (notebookContainer) {{\n",
       "    x.observe(notebookContainer, {childList: true});\n",
       "}}\n",
       "\n",
       "// Listen for the clearing of the current output cell\n",
       "var outputEl = gd.closest('.output');\n",
       "if (outputEl) {{\n",
       "    x.observe(outputEl, {childList: true});\n",
       "}}\n",
       "\n",
       "                        })                };                });            </script>        </div>"
      ]
     },
     "metadata": {},
     "output_type": "display_data"
    }
   ],
   "source": [
    "fig = go.Figure(data=[go.Bar(\n",
    "    x=ineg.part,\n",
    "    y=ineg.heritage)\n",
    "])\n",
    "\n",
    "fig.update_xaxes(title_text='Part de la population (%)')\n",
    "fig.update_yaxes(title_text='Héritage (€)')\n",
    "fig.show()"
   ]
  },
  {
   "cell_type": "markdown",
   "metadata": {},
   "source": [
    "# Get visual data"
   ]
  },
  {
   "cell_type": "code",
   "execution_count": 55,
   "metadata": {
    "ExecuteTime": {
     "end_time": "2023-07-13T20:47:28.874379139Z",
     "start_time": "2023-07-13T20:47:28.853811192Z"
    },
    "scrolled": false
   },
   "outputs": [
    {
     "data": {
      "application/vnd.jupyter.widget-view+json": {
       "model_id": "37b320bd37e84af698a1cee3964c407c",
       "version_major": 2,
       "version_minor": 0
      },
      "text/plain": [
       "Image(value=b'\\x89PNG\\r\\n\\x1a\\n\\x00\\x00\\x00\\rIHDR\\x00\\x00\\x03\\xef\\x00\\x00\\x02\\xce\\x08\\x06\\x00\\x00\\x00\\xd8\\xfd\"…"
      ]
     },
     "metadata": {},
     "output_type": "display_data"
    },
    {
     "data": {
      "application/vnd.jupyter.widget-view+json": {
       "model_id": "51b2379f7e664dfdad5d8f16a3efc887",
       "version_major": 2,
       "version_minor": 0
      },
      "text/plain": [
       "HTML(value='')"
      ]
     },
     "metadata": {},
     "output_type": "display_data"
    }
   ],
   "source": [
    "with open(\"img/taux_effectif.png\", \"rb\") as img :\n",
    "    im_widget = Image(value=img.read())\n",
    "\n",
    "event_widget = Event(source=im_widget, watched_events=['click'])\n",
    "\n",
    "out = HTML('')\n",
    "\n",
    "\n",
    "\n",
    "def handle_event(event):\n",
    "    \n",
    "    px = int(event[\"offsetX\"])\n",
    "    py = int(event[\"offsetY\"])\n",
    "    \n",
    "    x = int((px - 102) / (956-102) * 13 + 1.5) * 10\n",
    "    y = int((560 - py) / (560 - 58) * 40)\n",
    "    \n",
    "    if x == 100:\n",
    "        x = 95\n",
    "    elif x == 110 :\n",
    "        x = 99\n",
    "    elif x == 120 :\n",
    "        x = 99.5\n",
    "    elif x == 130 :\n",
    "        x = 99.9\n",
    "    elif x == 140 :\n",
    "        x = 100\n",
    "      \n",
    "    csv =  (\"%.2f,%.2f\" % (x, y)) + \"<br>\"\n",
    "    \n",
    "    out.value = out.value + csv\n",
    "    \n",
    "event_widget.on_dom_event(handle_event)\n",
    "display(im_widget, out)"
   ]
  },
  {
   "cell_type": "code",
   "execution_count": null,
   "metadata": {},
   "outputs": [],
   "source": []
  }
 ],
 "metadata": {
  "kernelspec": {
   "display_name": "Python 3 (ipykernel)",
   "language": "python",
   "name": "python3"
  },
  "language_info": {
   "codemirror_mode": {
    "name": "ipython",
    "version": 3
   },
   "file_extension": ".py",
   "mimetype": "text/x-python",
   "name": "python",
   "nbconvert_exporter": "python",
   "pygments_lexer": "ipython3",
   "version": "3.10.6"
  }
 },
 "nbformat": 4,
 "nbformat_minor": 1
}
